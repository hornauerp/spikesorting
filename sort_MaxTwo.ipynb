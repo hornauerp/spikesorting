{
 "cells": [
  {
   "cell_type": "code",
   "execution_count": 26,
   "metadata": {
    "collapsed": true,
    "pycharm": {
     "name": "#%%\n"
    }
   },
   "outputs": [],
   "source": [
    "import os, time, shutil\n",
    "import numpy as np"
   ]
  },
  {
   "cell_type": "code",
   "execution_count": 24,
   "metadata": {
    "collapsed": false,
    "pycharm": {
     "name": "#%%\n"
    }
   },
   "outputs": [],
   "source": [
    "import spikeinterface.full as si\n"
   ]
  },
  {
   "cell_type": "code",
   "execution_count": 12,
   "metadata": {
    "collapsed": false,
    "pycharm": {
     "name": "#%%\n"
    }
   },
   "outputs": [],
   "source": [
    "input_path = '/net/bs-filesvr02/export/group/hierlemann/recordings/Mea1k/phornauer/Optogenetics/'\n",
    "save_path = '/net/bs-filesvr02/export/group/hierlemann/intermediate_data/Mea1k/phornauer/si_test/'\n",
    "rec_date = '220628'\n",
    "chip_id = 'M04256'\n",
    "run_id = '000063'\n",
    "file_name = \"data.raw.h5\""
   ]
  },
  {
   "cell_type": "code",
   "execution_count": 11,
   "metadata": {
    "collapsed": false,
    "pycharm": {
     "name": "#%%\n"
    }
   },
   "outputs": [],
   "source": [
    "rec_path = os.path.join(input_path,rec_date,chip_id,'Network',)\n",
    "assert(os.path.exists(rec_path))"
   ]
  },
  {
   "cell_type": "code",
   "execution_count": 17,
   "metadata": {
    "collapsed": false,
    "pycharm": {
     "name": "#%%\n"
    }
   },
   "outputs": [
    {
     "data": {
      "text/plain": [
       "['combinato',\n",
       " 'hdsort',\n",
       " 'herdingspikes',\n",
       " 'ironclust',\n",
       " 'kilosort',\n",
       " 'kilosort2',\n",
       " 'kilosort2_5',\n",
       " 'kilosort3',\n",
       " 'klusta',\n",
       " 'mountainsort4',\n",
       " 'pykilosort',\n",
       " 'spykingcircus',\n",
       " 'spykingcircus2',\n",
       " 'tridesclous',\n",
       " 'tridesclous2',\n",
       " 'waveclus',\n",
       " 'waveclus_snippets',\n",
       " 'yass']"
      ]
     },
     "execution_count": 17,
     "metadata": {},
     "output_type": "execute_result"
    }
   ],
   "source": [
    "si.sorters.available_sorters()"
   ]
  },
  {
   "cell_type": "code",
   "execution_count": 25,
   "metadata": {
    "collapsed": false,
    "pycharm": {
     "name": "#%%\n"
    }
   },
   "outputs": [
    {
     "name": "stdout",
     "output_type": "stream",
     "text": [
      "Setting KILOSORT2_PATH environment variable for subprocess calls to: /home/phornauer/Git/Kilosort2\n"
     ]
    }
   ],
   "source": [
    "si.kilosort2.Kilosort2Sorter.set_kilosort2_path('/home/phornauer/Git/Kilosort2/')"
   ]
  },
  {
   "cell_type": "code",
   "execution_count": 27,
   "metadata": {
    "collapsed": false,
    "pycharm": {
     "name": "#%%\n"
    }
   },
   "outputs": [],
   "source": [
    "### sorter name ###\n",
    "sorter = 'kilosort2'\n",
    "sorter = 'tridesclous2'\n",
    "\n",
    "### sorter params - only params of the sorter used ###\n",
    "sorter_params = {\"n_jobs_bin\": 8, \"total_memory\": \"8G\", \"NT\": 1*1024+64}"
   ]
  },
  {
   "cell_type": "code",
   "execution_count": 28,
   "metadata": {
    "collapsed": false,
    "pycharm": {
     "name": "#%%\n"
    }
   },
   "outputs": [],
   "source": [
    "### Set parameters ###\n",
    "# If true, and spike sorting output is present, it's deleted and resorted\n",
    "recompute_sorting = False\n",
    "recompute_curation = False\n",
    "# If true, filtered data and sorted outputs are saved in a format that it's easy to retrieve (.pkl)\n",
    "dump_recording = True\n",
    "dump_sorting = True\n",
    "# If true, exports to Phy\n",
    "export_raw_to_phy = False\n",
    "export_curated_to_phy = False\n",
    "# If true, unit templates are plotted for all units\n",
    "plot_unit_templates = True\n",
    "plot_image = True\n",
    "### Filter params ###\n",
    "freq_min = 150\n",
    "freq_max = 3000\n",
    "### Automatic curation ###\n",
    "# If true, output is automatically curated using quality metrics (QC)\n",
    "auto_curate = True\n",
    "# Thresholds for automatic curations (if any is None, that autocuration is skipped\n",
    "# ISI-violation ratio (greater values are removed)\n",
    "isi_viol_thresh = 0.5\n",
    "# firing rate (smaller values are removed)\n",
    "fr_thresh = 0.05\n",
    "# signal-to-noise ratio (smaller values are removed)\n",
    "snr_thresh = 5\n",
    "### Other processing params - used for all sorters ###\n",
    "# number of jobs to use\n",
    "n_jobs = 8\n",
    "# total RAM to use\n",
    "total_memory = \"500M\"\n",
    "# chunk size\n",
    "chunk_size = 10000\n",
    "# Number of spikes per unit to compute templates (None-> all spikes are used)\n",
    "max_spikes_per_unit = None\n",
    "# Number of channels to compute center of mass\n",
    "num_channels_for_com = 30"
   ]
  },
  {
   "cell_type": "code",
   "execution_count": 29,
   "metadata": {
    "collapsed": false,
    "pycharm": {
     "name": "#%%\n"
    }
   },
   "outputs": [],
   "source": [
    "\n",
    "for i in range(0): #,5,1):\n",
    "    output_folder = save_path / f\"well0{i}\" / 'sorted'\n",
    "    cache_folder = save_path / f\"well0{i}\" / 'cache'\n",
    "    figures_folder = save_path / f\"well0{i}\" / 'figures'\n",
    "    output_folder.mkdir(parents=True, exist_ok=True)\n",
    "    cache_folder.mkdir(parents=True, exist_ok=True)\n",
    "    figures_folder.mkdir(parents=True, exist_ok=True)\n",
    "    tmp_folder = cache_folder / 'tmp' / sorter\n",
    "    tmp_folder.mkdir(parents=True, exist_ok=True)\n",
    "    # Load recording\n",
    "    try:\n",
    "        print(\"Trying to load Maxwell recording\")\n",
    "        rec = si.MaxwellRecordingExtractor(rec_path, stream_id=f\"well00{i}\")\n",
    "    except:\n",
    "        raise Exception(f\"Could not open the provided file: {rec_path} with the MaxwellRecordingExtractor\")\n",
    "\n",
    "    print(f\"DURATION: {rec.get_num_frames() / rec.get_sampling_frequency()} s -- \"\n",
    "          f\"NUM. CHANNELS: {rec.get_num_channels()}\")\n",
    "    print(rec.get_sampling_frequency())\n",
    "\n",
    "    ### Filter and dumping\n",
    "    if (cache_folder / 'recording').is_dir():\n",
    "        print(\"Loading saved recording\")\n",
    "        rec_cache = si.load_extractor(cache_folder / 'recording')\n",
    "    else:\n",
    "        print('FILTERING\\n')\n",
    "        rec_f = si.preprocessing.bandpass_filter(rec, freq_min=freq_min, freq_max=freq_max)\n",
    "\n",
    "        if dump_recording:\n",
    "            start = time.time()\n",
    "            rec_cache = rec_f.save(folder=cache_folder / \"recording\", n_jobs=n_jobs, chunk_size=chunk_size,\n",
    "                                   progress_bar=True)\n",
    "            stop = time.time()\n",
    "            print(f'Elapsed saving time {np.round(stop - start, 2)}\\n')\n",
    "            print(f\"Filtered recording saved to {cache_folder / 'recording'}\\n\")\n",
    "        else:\n",
    "            rec_cache = rec_f\n",
    "    fs = rec_cache.get_sampling_frequency()\n",
    "\n",
    "    ### Spike sorting\n",
    "    if recompute_sorting and output_folder.is_dir():\n",
    "        shutil.rmtree(output_folder)\n",
    "    try:\n",
    "        if not (cache_folder / 'sorting_raw').is_dir():\n",
    "            print(f'SORTING WITH {sorter}\\n')\n",
    "            t_start_sort = time.time()\n",
    "            sorting = si.run_sorter(sorter, rec_cache, output_folder=output_folder, verbose=True,\n",
    "                                    **sorter_params)\n",
    "            print(f\"\\n\\nSpike sorting elapsed time {time.time() - t_start_sort} s\")\n",
    "        else:\n",
    "            print('Skipping', rec_path, ' since already sorted')\n",
    "            sorting = si.load_extractor(cache_folder / 'sorting_raw')\n",
    "    except Exception as e:\n",
    "        print(f\"{sorter} failed on recording {rec_path}\\n\\nError: {e}\")\n",
    "        continue\n",
    "\n",
    "    if export_raw_to_phy and not (cache_folder / \"phy_raw\").is_dir():\n",
    "        we_raw = si.extract_waveforms(rec_cache, sorting, folder=cache_folder / \"waveforms_raw\", load_if_exists=True,\n",
    "                                      n_jobs=n_jobs, total_memory=total_memory, progress_bar=True)\n",
    "        print(\"Exporting raw sorting output to Phy\")\n",
    "        si.export_to_phy(we_raw, cache_folder / \"phy_raw\", n_jobs=n_jobs, total_memory=total_memory,\n",
    "                      progress_bar=True)\n"
   ]
  },
  {
   "cell_type": "code",
   "execution_count": 22,
   "metadata": {
    "collapsed": false,
    "pycharm": {
     "name": "#%%\n"
    }
   },
   "outputs": [
    {
     "data": {
      "text/plain": [
       "'well05'"
      ]
     },
     "execution_count": 22,
     "metadata": {},
     "output_type": "execute_result"
    }
   ],
   "source": []
  }
 ],
 "metadata": {
  "kernelspec": {
   "display_name": "Python 3",
   "language": "python",
   "name": "python3"
  },
  "language_info": {
   "codemirror_mode": {
    "name": "ipython",
    "version": 2
   },
   "file_extension": ".py",
   "mimetype": "text/x-python",
   "name": "python",
   "nbconvert_exporter": "python",
   "pygments_lexer": "ipython2",
   "version": "2.7.6"
  }
 },
 "nbformat": 4,
 "nbformat_minor": 0
}
