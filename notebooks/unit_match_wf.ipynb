{
 "cells": [
  {
   "cell_type": "code",
   "execution_count": 1,
   "metadata": {},
   "outputs": [],
   "source": [
    "%load_ext autoreload\n",
    "%autoreload 2"
   ]
  },
  {
   "cell_type": "code",
   "execution_count": 2,
   "metadata": {},
   "outputs": [],
   "source": [
    "import os,sys\n",
    "import warnings\n",
    "from pathlib import Path\n",
    "from glob import glob\n",
    "\n",
    "import spikeinterface.full as si\n",
    "import numpy as np \n",
    "import matplotlib.pyplot as plt\n",
    "from pprint import pprint\n",
    "from kneed import KneeLocator\n",
    "\n",
    "import UnitMatchPy.overlord as ov\n",
    "import UnitMatchPy.metric_functions as mf\n",
    "\n",
    "sys.path.append(\"/home/phornauer/Git/spikesorting/\")\n",
    "from spikesorting import unit_match as um\n",
    "\n",
    "\n",
    "warnings.filterwarnings(\"ignore\", category=RuntimeWarning)\n",
    "\n",
    "si.set_global_job_kwargs(n_jobs=16, progress_bar=False)"
   ]
  },
  {
   "cell_type": "code",
   "execution_count": 4,
   "metadata": {},
   "outputs": [
    {
     "name": "stdout",
     "output_type": "stream",
     "text": [
      "['well019', 'well020', 'well021', 'well022', 'well023']\n"
     ]
    }
   ],
   "source": [
    "parent_path = '/net/bs-filesvr02/export/group/hierlemann/intermediate_data/Maxtwo/phornauer/'\n",
    "project_name = 'Torsten_2'\n",
    "recording_date = '241030'\n",
    "chip_id = 'T002523'\n",
    "assay_name = 'Network'\n",
    "assay_id = '*'\n",
    "\n",
    "well_ids = [\"well{:03d}\".format(w) for w in range(19,24)]\n",
    "print(well_ids)"
   ]
  },
  {
   "cell_type": "code",
   "execution_count": 5,
   "metadata": {},
   "outputs": [
    {
     "name": "stdout",
     "output_type": "stream",
     "text": [
      "Found 12 sorting paths matching the description:\n",
      "/net/bs-filesvr02/export/group/hierlemann/intermediate_data/Maxtwo/phornauer/Torsten_2/241030/T002523/Network/*/well019/sorter_output/spike_times.npy\n",
      "\n",
      "Extracting waveforms...\n"
     ]
    }
   ],
   "source": [
    "for file_name in well_ids:\n",
    "\n",
    "    path_parts = [parent_path, project_name, recording_date, chip_id, assay_name, assay_id, file_name, \"sorter_output\",\"spike_times.npy\"]\n",
    "    path_list = um.get_sorting_path_list(path_parts)\n",
    "    waveforms, channel_pos = um.generate_templates(path_list)\n",
    "    \n",
    "#pprint(path_list)"
   ]
  },
  {
   "cell_type": "code",
   "execution_count": null,
   "metadata": {},
   "outputs": [],
   "source": [
    "recordings, sortings = um.load_objects(path_list)"
   ]
  },
  {
   "cell_type": "code",
   "execution_count": null,
   "metadata": {},
   "outputs": [],
   "source": [
    "for i, sorting in enumerate(sortings):\n",
    "    sortings[i] = um.select_good_units(sorting)\n",
    "    \n",
    "for recording in recordings:\n",
    "    recording = si.highpass_filter(recording)"
   ]
  },
  {
   "cell_type": "code",
   "execution_count": 43,
   "metadata": {},
   "outputs": [],
   "source": [
    "split_recordings, split_sortings = um.perform_cv_split(recordings, sortings)"
   ]
  },
  {
   "cell_type": "code",
   "execution_count": 44,
   "metadata": {},
   "outputs": [],
   "source": [
    "analysers = []\n",
    "for i, _ in enumerate(split_recordings):\n",
    "    split_analysers = []\n",
    "\n",
    "    split_analysers.append(\n",
    "        si.create_sorting_analyzer(\n",
    "            split_sortings[i][0], split_recordings[i][0], sparse=False\n",
    "        )\n",
    "    )\n",
    "    split_analysers.append(\n",
    "        si.create_sorting_analyzer(\n",
    "            split_sortings[i][1], split_recordings[i][1], sparse=False\n",
    "        )\n",
    "    )\n",
    "    analysers.append(split_analysers)\n",
    "\n",
    "all_waveforms = []"
   ]
  },
  {
   "cell_type": "code",
   "execution_count": null,
   "metadata": {},
   "outputs": [
    {
     "name": "stderr",
     "output_type": "stream",
     "text": [
      "Exception ignored in: <function _releaseLock at 0x7fab5d2ce480>\n",
      "Traceback (most recent call last):\n",
      "  File \"/home/phornauer/miniconda3/envs/si_env/envs/si101/lib/python3.12/logging/__init__.py\", line 243, in _releaseLock\n",
      "    def _releaseLock():\n",
      "    \n",
      "KeyboardInterrupt: \n"
     ]
    }
   ],
   "source": [
    "for i, _ in enumerate(analysers):\n",
    "    for half in range(2):\n",
    "        analysers[i][half].compute(\n",
    "            [\n",
    "                \"random_spikes\",\n",
    "                \"waveforms\",\n",
    "                \"templates\",\n",
    "            ],\n",
    "            extension_params={\n",
    "                \"random_spikes\": {\"max_spikes_per_unit\": 500, \"method\": \"uniform\"}\n",
    "                # \"waveforms\": {\"ms_before\": cutout_ms[0], \"ms_after\": cutout_ms[1]},\n",
    "            },\n",
    "        )\n",
    "    templates_first = analysers[i][0].get_extension(\"templates\")\n",
    "    templates_second = analysers[i][1].get_extension(\"templates\")\n",
    "    t1 = templates_first.get_data()\n",
    "    t2 = templates_second.get_data()"
   ]
  },
  {
   "cell_type": "code",
   "execution_count": 30,
   "metadata": {},
   "outputs": [
    {
     "data": {
      "text/html": [
       "<div style='border:1px solid #ddd; padding:10px;'><strong>FrameSliceSorting: 6 units - 1 segments - 10.0kHz</strong></div><details style='margin-left: 10px;'>  <summary><strong>Unit IDs</strong></summary><ul>[0 1 2 3 4 5] </details><details style='margin-left: 10px;'>  <summary><strong>Annotations</strong></summary><ul><li> <strong> phy_folder </strong>: /net/bs-filesvr02/export/group/hierlemann/intermediate_data/Maxtwo/phornauer/Torsten_2/241030/T002523/Network/Washin/well000/sorter_output</li></details><details style='margin-left: 10px;'><summary><strong>Unit Properties</strong></summary><ul><details><summary><strong>original_cluster_id</strong></summary>[0 1 2 3 4 5]</details><details><summary><strong>ContamPct</strong></summary>[100. 100. 100.   0.   0. 100.]</details><details><summary><strong>presence_ratio</strong></summary>[1 1 1 1 1 1]</details><details><summary><strong>max_drift</strong></summary>[nan nan nan nan nan nan]</details><details><summary><strong>KSLabel</strong></summary>['mua' 'good' 'good' 'mua' 'mua' 'good']</details><details><summary><strong>SNR</strong></summary>[nan nan nan nan nan nan]</details><details><summary><strong>L-ratio</strong></summary>[       nan 1.26298666 0.49662447 0.60254812 0.         0.37460163]</details><details><summary><strong>n_troughs</strong></summary>[2 1 1 2 1 1]</details><details><summary><strong>spatial_decay_slope</strong></summary>[0.17333309 0.19701231 0.17155559 0.16489372 0.16355089 0.10686236]</details><details><summary><strong>percentage_spikes_missing</strong></summary>[50. 50. 50. 50. 50. 50.]</details><details><summary><strong>silhouette_score</strong></summary>[nan nan nan nan nan nan]</details><details><summary><strong>isolation_distance</strong></summary>[        nan  7.35601902 52.97849655 17.93962669 78.03211212 19.06146431]</details><details><summary><strong>peak_main_to_trough</strong></summary>[0.98812075 0.74731855 0.83833703 1.01786616 1.09922556 0.9845082 ]</details><details><summary><strong>peak_2_to_trough</strong></summary>[0.51267598 0.32206659 0.36744812 0.80551671 0.19759364 0.81733495]</details><details><summary><strong>bc_unitType</strong></summary>['NOISE' 'NOISE' 'NOISE' 'NOISE' 'NOISE' 'NOISE']</details><details><summary><strong>peak_1_to_peak_2</strong></summary>[0 0 0 0 0 0]</details><details><summary><strong>KSLabel_repeat</strong></summary>['mua' 'good' 'good' 'mua' 'mua' 'good']</details><details><summary><strong>n_peaks</strong></summary>[2 2 2 2 2 2]</details><details><summary><strong>waveform_duration</strong></summary>[1400  900 1100  700  400  600]</details><details><summary><strong>Amplitude</strong></summary>[1006.4 1163.6 1018.4 1297.8 1409.  1212.4]</details><details><summary><strong>wv_baseline_flatness</strong></summary>[0.47320997 0.30273893 0.33829626 0.16397022 0.33789206 0.18719475]</details><details><summary><strong>frac_RPVs</strong></summary>[0 0 0 0 0 0]</details></ul></details>"
      ],
      "text/plain": [
       "FrameSliceSorting: 6 units - 1 segments - 10.0kHz"
      ]
     },
     "execution_count": 30,
     "metadata": {},
     "output_type": "execute_result"
    }
   ],
   "source": [
    "split_sortings[1][1]"
   ]
  }
 ],
 "metadata": {
  "kernelspec": {
   "display_name": "si101",
   "language": "python",
   "name": "python3"
  },
  "language_info": {
   "codemirror_mode": {
    "name": "ipython",
    "version": 3
   },
   "file_extension": ".py",
   "mimetype": "text/x-python",
   "name": "python",
   "nbconvert_exporter": "python",
   "pygments_lexer": "ipython3",
   "version": "3.12.7"
  }
 },
 "nbformat": 4,
 "nbformat_minor": 2
}
