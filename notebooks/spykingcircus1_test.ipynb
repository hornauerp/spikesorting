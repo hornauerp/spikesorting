{
 "cells": [
  {
   "cell_type": "code",
   "execution_count": null,
   "id": "8eb4ce52",
   "metadata": {},
   "outputs": [],
   "source": [
    "import spikeinterface.full as si"
   ]
  },
  {
   "cell_type": "code",
   "execution_count": null,
   "id": "663b9020",
   "metadata": {},
   "outputs": [],
   "source": [
    "recording_path = '/home/phornauer/recording.raw.h5'\n",
    "recording = si.MaxwellRecordingExtractor(recording_path)\n",
    "\n",
    "sorter = 'spykingcircus'\n",
    "output_folder = '/home/phornauer/sc_test'\n",
    "\n",
    "sorter_params = si.get_default_sorter_params(sorter)\n",
    "sorter_params['num_workers'] = 16"
   ]
  },
  {
   "cell_type": "code",
   "execution_count": null,
   "id": "811b97cc",
   "metadata": {},
   "outputs": [],
   "source": [
    "sorting = si.run_sorter(sorter, recording, output_folder=output_folder, verbose=True,\n",
    "                                **sorter_params)"
   ]
  }
 ],
 "metadata": {
  "kernelspec": {
   "display_name": "Python 3 (ipykernel)",
   "language": "python",
   "name": "python3"
  },
  "language_info": {
   "codemirror_mode": {
    "name": "ipython",
    "version": 3
   },
   "file_extension": ".py",
   "mimetype": "text/x-python",
   "name": "python",
   "nbconvert_exporter": "python",
   "pygments_lexer": "ipython3",
   "version": "3.9.15"
  }
 },
 "nbformat": 4,
 "nbformat_minor": 5
}
