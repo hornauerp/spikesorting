{
 "cells": [
  {
   "cell_type": "code",
   "execution_count": 1,
   "id": "06bc3e81-507c-4610-a899-486b5c3f0b81",
   "metadata": {},
   "outputs": [],
   "source": [
    "%load_ext autoreload\n",
    "%autoreload 2"
   ]
  },
  {
   "cell_type": "code",
   "execution_count": 2,
   "id": "fff00e09-20a3-4532-8351-06118f216f94",
   "metadata": {},
   "outputs": [],
   "source": [
    "import os, time, shutil, sys\n",
    "from pprint import pprint\n",
    "import numpy as np\n",
    "import spikeinterface.full as si\n",
    "sys.path.append(\"/home/phornauer/Git/axon_tracking/\")\n",
    "import axon_tracking.spike_sorting as ss\n",
    "import axon_tracking.template_extraction as te"
   ]
  },
  {
   "cell_type": "markdown",
   "id": "a5692e2a",
   "metadata": {},
   "source": [
    "Specify cutouts in seconds to restrict segments to a specific period. The cutout can be specified for each segment individually (2D array/list) or as one. Defaults to [0, np.inf], which uses the entire duration for all segments."
   ]
  },
  {
   "cell_type": "code",
   "execution_count": 78,
   "id": "39d44f95-9306-433d-81e3-ba3be6f9c891",
   "metadata": {},
   "outputs": [
    {
     "data": {
      "text/plain": [
       "array([ 0., inf])"
      ]
     },
     "execution_count": 78,
     "metadata": {},
     "output_type": "execute_result"
    }
   ],
   "source": [
    "root_path = '/net/bs-filesvr02/export/group/hierlemann/intermediate_data/Maxtwo/phornauer/Torsten/240909/T002523/Network/'\n",
    "#s_cutout = np.array([[0, np.inf],[600, np.inf],[0, np.inf],[0, np.inf],[0, np.inf],[0, np.inf],[0, np.inf],[0, np.inf],[0, np.inf],[0, np.inf],[0, np.inf]]) #Time cutout of each recording segment in [s]\n",
    "s_cutout = np.array([0, np.inf])\n",
    "s_cutout"
   ]
  },
  {
   "cell_type": "code",
   "execution_count": 79,
   "id": "40329933-fdec-4a97-ba48-52aca6fc7b7e",
   "metadata": {},
   "outputs": [
    {
     "name": "stdout",
     "output_type": "stream",
     "text": [
      "['/net/bs-filesvr02/export/group/hierlemann/intermediate_data/Maxtwo/phornauer/Torsten/240909/T002523/Network/well008',\n",
      " '/net/bs-filesvr02/export/group/hierlemann/intermediate_data/Maxtwo/phornauer/Torsten/240909/T002523/Network/well009']\n"
     ]
    }
   ],
   "source": [
    "file_list = te.find_files(root_path)\n",
    "file_list.sort()\n",
    "pprint(file_list)"
   ]
  },
  {
   "cell_type": "markdown",
   "id": "dd6432da-a18a-4813-9dcf-2f4f57515256",
   "metadata": {},
   "source": [
    "We check for the recording length to decide on a cutout (if necessary). We might e.g. want to remove the first minutes after drug addition."
   ]
  },
  {
   "cell_type": "code",
   "execution_count": 80,
   "id": "384fc376-14c6-42df-a162-44f2985e26ba",
   "metadata": {},
   "outputs": [
    {
     "data": {
      "text/plain": [
       "[10.0, 10.0, 5.0, 15.0, 20.0, 20.0, 10.0, 10.0, 10.0, 10.0]"
      ]
     },
     "execution_count": 80,
     "metadata": {},
     "output_type": "execute_result"
    }
   ],
   "source": [
    "file_idx = 0 #File to check recording lengths for\n",
    "seg_sorting, concat_rec = ss.split_concatenated_sorting(file_list[file_idx])\n",
    "[np.round(concat_rec.recording_list[x].get_total_duration()/60) for x in range(len(concat_rec.recording_list))]"
   ]
  },
  {
   "cell_type": "code",
   "execution_count": 75,
   "id": "963da45b-7b83-4602-bac0-437c606df07a",
   "metadata": {},
   "outputs": [
    {
     "name": "stdout",
     "output_type": "stream",
     "text": [
      "(5, 2)\n",
      "(5, 2)\n",
      "(5, 2)\n",
      "(5, 2)\n"
     ]
    }
   ],
   "source": [
    "start_seg = 0\n",
    "end_seg = 5\n",
    "for sorting_path in file_list:\n",
    "    seg_sorting, concat_rec = ss.split_concatenated_sorting(sorting_path)\n",
    "    #unit_file = os.path.join(sorting_path,'sorter_output','qc_output','phy_ids.npy')\n",
    "    keep_unit_ids = None# np.load(unit_file) - 1 #From matlab indexing\n",
    "    \n",
    "    # If we want to only keep some of the concatenated segments\n",
    "    seg_sorting = si.select_segment_sorting(seg_sorting,list(range(start_seg,end_seg)))\n",
    "    ss.save_split_sorting(seg_sorting,keep_unit_ids=keep_unit_ids,cutout=s_cutout)"
   ]
  }
 ],
 "metadata": {
  "kernelspec": {
   "display_name": "Python 3 (ipykernel)",
   "language": "python",
   "name": "python3"
  },
  "language_info": {
   "codemirror_mode": {
    "name": "ipython",
    "version": 3
   },
   "file_extension": ".py",
   "mimetype": "text/x-python",
   "name": "python",
   "nbconvert_exporter": "python",
   "pygments_lexer": "ipython3",
   "version": "3.11.5"
  }
 },
 "nbformat": 4,
 "nbformat_minor": 5
}
