{
 "cells": [
  {
   "cell_type": "code",
   "execution_count": 7,
   "id": "11bfeaa5",
   "metadata": {},
   "outputs": [],
   "source": [
    "import os, time, shutil\n",
    "from pathlib import Path\n",
    "from glob import glob\n",
    "import numpy as np\n",
    "import spikeinterface.full as si"
   ]
  },
  {
   "cell_type": "code",
   "execution_count": 2,
   "id": "33b90522",
   "metadata": {},
   "outputs": [
    {
     "name": "stdout",
     "output_type": "stream",
     "text": [
      "Setting KILOSORT2_5_PATH environment variable for subprocess calls to: /home/phornauer/Git/Kilosort_2020b\n",
      "{'detect_threshold': 5.5, 'projection_threshold': [10, 4], 'preclust_threshold': 8, 'car': True, 'minFR': 0.01, 'minfr_goodchannels': 0.01, 'nblocks': 5, 'sig': 20, 'freq_min': 150, 'sigmaMask': 30, 'nPCs': 3, 'ntbuff': 64, 'nfilt_factor': 4, 'NT': None, 'do_correction': False, 'wave_length': 61, 'keep_good_only': False, 'skip_kilosort_preprocessing': False, 'scaleproc': None, 'save_rez_to_mat': False, 'delete_tmp_files': True, 'delete_recording_dat': False, 'n_jobs': -1, 'chunk_duration': '1s', 'progress_bar': True}\n"
     ]
    }
   ],
   "source": [
    "sorter = 'kilosort2_5'\n",
    "si.Kilosort2_5Sorter.set_kilosort2_5_path('/home/phornauer/Git/Kilosort_2020b')\n",
    "sorter_params = si.get_default_sorter_params(si.Kilosort2_5Sorter)\n",
    "sorter_params['n_jobs'] = -1\n",
    "sorter_params['detect_threshold'] = 5.5\n",
    "sorter_params['minFR'] = 0.01\n",
    "sorter_params['minfr_goodchannels'] = 0.01\n",
    "sorter_params['keep_good_only'] = False\n",
    "sorter_params['do_correction'] = False\n",
    "print(sorter_params)"
   ]
  },
  {
   "cell_type": "code",
   "execution_count": 3,
   "id": "92e7e26b",
   "metadata": {},
   "outputs": [],
   "source": [
    "input_path = '/net/bs-filesvr02/export/group/hierlemann/recordings/Maxtwo/mpriouret/iNeurons/230328/'\n",
    "path_list  = glob(input_path + '/M*/Network/*/data.raw.h5')"
   ]
  },
  {
   "cell_type": "code",
   "execution_count": 4,
   "id": "6fca9109",
   "metadata": {},
   "outputs": [
    {
     "data": {
      "text/plain": [
       "['/net/bs-filesvr02/export/group/hierlemann/recordings/Maxtwo/mpriouret/iNeurons/230328/M05588/Network/000102/data.raw.h5',\n",
       " '/net/bs-filesvr02/export/group/hierlemann/recordings/Maxtwo/mpriouret/iNeurons/230328/M05737/Network/000098/data.raw.h5',\n",
       " '/net/bs-filesvr02/export/group/hierlemann/recordings/Maxtwo/mpriouret/iNeurons/230328/M05579/Network/000096/data.raw.h5',\n",
       " '/net/bs-filesvr02/export/group/hierlemann/recordings/Maxtwo/mpriouret/iNeurons/230328/M05866/Network/000100/data.raw.h5',\n",
       " '/net/bs-filesvr02/export/group/hierlemann/recordings/Maxtwo/mpriouret/iNeurons/230328/M05865/Network/000094/data.raw.h5']"
      ]
     },
     "execution_count": 4,
     "metadata": {},
     "output_type": "execute_result"
    }
   ],
   "source": [
    "path_list "
   ]
  },
  {
   "cell_type": "code",
   "execution_count": 5,
   "id": "3d00349d",
   "metadata": {},
   "outputs": [
    {
     "data": {
      "text/plain": [
       "'/net/bs-filesvr02/export/group/hierlemann/intermediate_data/MaxTwo/phornauer/iNeurons/230328/M05588'"
      ]
     },
     "execution_count": 5,
     "metadata": {},
     "output_type": "execute_result"
    }
   ],
   "source": [
    "path_parts = path_list[0].split('/')\n",
    "path_parts[0] = '/'\n",
    "path_parts[6] = 'intermediate_data'\n",
    "path_parts[7] = 'MaxTwo'\n",
    "path_parts[8] = 'phornauer'\n",
    "save_root = os.path.join(*path_parts[0:12])\n",
    "save_root"
   ]
  },
  {
   "cell_type": "code",
   "execution_count": null,
   "id": "4fbd35ee",
   "metadata": {},
   "outputs": [
    {
     "name": "stdout",
     "output_type": "stream",
     "text": [
      "/net/bs-filesvr02/export/group/hierlemann/recordings/Maxtwo/mpriouret/iNeurons/230328/M05588/Network/000102/data.raw.h5\n",
      "\n",
      "\n",
      "---------Sorting recording 230328/M05588 well 1---------\n",
      "\n",
      "\n",
      "DURATION: 600.02 s -- NUM. CHANNELS: 1020\n"
     ]
    },
    {
     "data": {
      "application/vnd.jupyter.widget-view+json": {
       "model_id": "692dc092b9ba47279acca00f530a3e28",
       "version_major": 2,
       "version_minor": 0
      },
      "text/plain": [
       "write_binary_recording:   0%|          | 0/601 [00:00<?, ?it/s]"
      ]
     },
     "metadata": {},
     "output_type": "display_data"
    },
    {
     "name": "stdout",
     "output_type": "stream",
     "text": [
      "RUNNING SHELL SCRIPT: /net/bs-filesvr02/export/group/hierlemann/intermediate_data/Maxtwo/phornauer/iNeurons/230328/M05588/well000/sorted/sorter_output/run_kilosort2_5.sh\n",
      "\n",
      "\n",
      "                                                                              < M A T L A B (R) >\n",
      "\n",
      "                                                                    Copyright 1984-2020 The MathWorks, Inc.\n",
      "\n",
      "                                                                    R2020b (9.9.0.1467703) 64-bit (glnxa64)\n",
      "\n",
      "                                                                                August 26, 2020\n",
      "\n",
      "\n",
      "\n",
      " \n",
      "\n",
      "To get started, type doc.\n",
      "\n",
      "For product information, visit www.mathworks.com.\n",
      "\n",
      " \n",
      "\n",
      "Time   0s. Computing whitening matrix.. \n",
      "\n",
      "Getting channel whitening matrix... \n",
      "\n",
      "Channel-whitening matrix computed. \n",
      "\n",
      "Time   8s. Loading raw data and applying filters... \n",
      "\n",
      "Time  78s. Finished preprocessing 92 batches. \n",
      "\n",
      "Drift correction DISABLED\n",
      "\n",
      "pitch is 35 um\n",
      "\n",
      "1.03 sec, 1 batches, 2121 spikes \n",
      "\n",
      "86.46 sec, 92 batches, 193944 spikes \n",
      "\n",
      "time 96.00, Skipped shifting 92 batches. \n",
      "\n",
      "Time  98s. Optimizing templates ...\n",
      "\n",
      "99.20 sec, 1 / 92 batches, 70 units, nspks: 6.2272, mu: 11.4885, nst0: 35, merges: 0.6000, 0.0000, 3.5000 \n",
      "\n"
     ]
    }
   ],
   "source": [
    "for p in path_list:\n",
    "    print(p)\n",
    "    path_parts = p.split('/')\n",
    "    path_parts[0] = '/'\n",
    "    path_parts[6] = 'intermediate_data'\n",
    "    path_parts[8] = 'phornauer'\n",
    "    save_root = os.path.join(*path_parts[0:12])\n",
    "    for w in range(6):\n",
    "        stream_name = 'well00' + str(w)\n",
    "        save_path = os.path.join(save_root,stream_name)\n",
    "        output_folder = Path(os.path.join(save_path, 'sorted'))\n",
    "        \n",
    "        if not os.path.exists(os.path.join(output_folder,'amplitudes.npy')):\n",
    "        #if not os.path.exists(output_folder):\n",
    "            print(f\"\\n\\n---------Sorting recording {os.path.join(path_parts[10],path_parts[11])} well {w+1}---------\\n\\n\")\n",
    "            output_folder.mkdir(parents=True, exist_ok=True)\n",
    "            raw_file = os.path.join(output_folder,'recording.dat')\n",
    "            wh_file = os.path.join(output_folder, 'temp_wh.dat')\n",
    "            try:\n",
    "                rec = si.MaxwellRecordingExtractor(p,stream_name=stream_name)\n",
    "            except Exception:\n",
    "                continue\n",
    "            print(f\"DURATION: {rec.get_num_frames() / rec.get_sampling_frequency()} s -- \"\n",
    "                  f\"NUM. CHANNELS: {rec.get_num_channels()}\")\n",
    "            try:\n",
    "                t_start_sort = time.time()\n",
    "                sorting = si.run_sorter(sorter, rec, output_folder=output_folder, verbose=True,\n",
    "                                        **sorter_params)\n",
    "                print(f\"\\n\\nSpike sorting elapsed time {time.time() - t_start_sort} s\")\n",
    "                if os.path.exists(wh_file):\n",
    "                    os.remove(wh_file)\n",
    "                if os.path.exists(raw_file):\n",
    "                    os.remove(raw_file)\n",
    "            except Exception:\n",
    "                if os.path.exists(wh_file):\n",
    "                    os.remove(wh_file)\n",
    "                if os.path.exists(raw_file):\n",
    "                    os.remove(raw_file)\n",
    "                continue"
   ]
  },
  {
   "cell_type": "code",
   "execution_count": 8,
   "id": "371e3142",
   "metadata": {},
   "outputs": [
    {
     "name": "stdout",
     "output_type": "stream",
     "text": [
      "/net/bs-filesvr02/export/group/hierlemann/intermediate_data/Maxtwo/phornauer/iNeurons/230328/M05588/well000/sorted\n",
      "/net/bs-filesvr02/export/group/hierlemann/intermediate_data/Maxtwo/phornauer/iNeurons/230328/M05588/well001/sorted\n",
      "/net/bs-filesvr02/export/group/hierlemann/intermediate_data/Maxtwo/phornauer/iNeurons/230328/M05588/well002/sorted\n",
      "/net/bs-filesvr02/export/group/hierlemann/intermediate_data/Maxtwo/phornauer/iNeurons/230328/M05588/well003/sorted\n",
      "/net/bs-filesvr02/export/group/hierlemann/intermediate_data/Maxtwo/phornauer/iNeurons/230328/M05588/well004/sorted\n",
      "/net/bs-filesvr02/export/group/hierlemann/intermediate_data/Maxtwo/phornauer/iNeurons/230328/M05588/well005/sorted\n",
      "/net/bs-filesvr02/export/group/hierlemann/intermediate_data/Maxtwo/phornauer/iNeurons/230328/M05737/well000/sorted\n",
      "/net/bs-filesvr02/export/group/hierlemann/intermediate_data/Maxtwo/phornauer/iNeurons/230328/M05737/well001/sorted\n",
      "/net/bs-filesvr02/export/group/hierlemann/intermediate_data/Maxtwo/phornauer/iNeurons/230328/M05737/well002/sorted\n",
      "/net/bs-filesvr02/export/group/hierlemann/intermediate_data/Maxtwo/phornauer/iNeurons/230328/M05737/well003/sorted\n",
      "/net/bs-filesvr02/export/group/hierlemann/intermediate_data/Maxtwo/phornauer/iNeurons/230328/M05737/well004/sorted\n",
      "/net/bs-filesvr02/export/group/hierlemann/intermediate_data/Maxtwo/phornauer/iNeurons/230328/M05737/well005/sorted\n",
      "/net/bs-filesvr02/export/group/hierlemann/intermediate_data/Maxtwo/phornauer/iNeurons/230328/M05579/well000/sorted\n",
      "/net/bs-filesvr02/export/group/hierlemann/intermediate_data/Maxtwo/phornauer/iNeurons/230328/M05579/well001/sorted\n",
      "/net/bs-filesvr02/export/group/hierlemann/intermediate_data/Maxtwo/phornauer/iNeurons/230328/M05579/well002/sorted\n",
      "/net/bs-filesvr02/export/group/hierlemann/intermediate_data/Maxtwo/phornauer/iNeurons/230328/M05579/well003/sorted\n",
      "/net/bs-filesvr02/export/group/hierlemann/intermediate_data/Maxtwo/phornauer/iNeurons/230328/M05579/well004/sorted\n",
      "/net/bs-filesvr02/export/group/hierlemann/intermediate_data/Maxtwo/phornauer/iNeurons/230328/M05579/well005/sorted\n",
      "/net/bs-filesvr02/export/group/hierlemann/intermediate_data/Maxtwo/phornauer/iNeurons/230328/M05866/well000/sorted\n",
      "/net/bs-filesvr02/export/group/hierlemann/intermediate_data/Maxtwo/phornauer/iNeurons/230328/M05866/well001/sorted\n",
      "/net/bs-filesvr02/export/group/hierlemann/intermediate_data/Maxtwo/phornauer/iNeurons/230328/M05866/well002/sorted\n",
      "/net/bs-filesvr02/export/group/hierlemann/intermediate_data/Maxtwo/phornauer/iNeurons/230328/M05866/well003/sorted\n",
      "/net/bs-filesvr02/export/group/hierlemann/intermediate_data/Maxtwo/phornauer/iNeurons/230328/M05866/well004/sorted\n",
      "/net/bs-filesvr02/export/group/hierlemann/intermediate_data/Maxtwo/phornauer/iNeurons/230328/M05866/well005/sorted\n",
      "/net/bs-filesvr02/export/group/hierlemann/intermediate_data/Maxtwo/phornauer/iNeurons/230328/M05865/well000/sorted\n",
      "/net/bs-filesvr02/export/group/hierlemann/intermediate_data/Maxtwo/phornauer/iNeurons/230328/M05865/well001/sorted\n",
      "/net/bs-filesvr02/export/group/hierlemann/intermediate_data/Maxtwo/phornauer/iNeurons/230328/M05865/well002/sorted\n",
      "/net/bs-filesvr02/export/group/hierlemann/intermediate_data/Maxtwo/phornauer/iNeurons/230328/M05865/well003/sorted\n",
      "/net/bs-filesvr02/export/group/hierlemann/intermediate_data/Maxtwo/phornauer/iNeurons/230328/M05865/well004/sorted\n",
      "/net/bs-filesvr02/export/group/hierlemann/intermediate_data/Maxtwo/phornauer/iNeurons/230328/M05865/well005/sorted\n"
     ]
    }
   ],
   "source": [
    "# 17 \n",
    "for p in path_list:\n",
    "    path_parts = p.split('/')\n",
    "    path_parts[0] = '/'\n",
    "    path_parts[6] = 'intermediate_data'\n",
    "    path_parts[8] = 'phornauer'\n",
    "    save_root = os.path.join(*path_parts[0:12])\n",
    "    failed_sortings = []\n",
    "    for w in range(6):\n",
    "\n",
    "        stream_name = 'well00' + str(w)\n",
    "        save_path = os.path.join(save_root,stream_name)\n",
    "\n",
    "        output_folder = Path(os.path.join(save_path, 'sorted'))\n",
    "        if not os.path.exists(os.path.join(output_folder,'amplitudes.npy')):\n",
    "            print(output_folder)"
   ]
  }
 ],
 "metadata": {
  "kernelspec": {
   "display_name": "Python 3 (ipykernel)",
   "language": "python",
   "name": "python3"
  },
  "language_info": {
   "codemirror_mode": {
    "name": "ipython",
    "version": 3
   },
   "file_extension": ".py",
   "mimetype": "text/x-python",
   "name": "python",
   "nbconvert_exporter": "python",
   "pygments_lexer": "ipython3",
   "version": "3.9.15"
  }
 },
 "nbformat": 4,
 "nbformat_minor": 5
}
