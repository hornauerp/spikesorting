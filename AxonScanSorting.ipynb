{
 "cells": [
  {
   "cell_type": "code",
   "execution_count": 362,
   "id": "132f6569",
   "metadata": {},
   "outputs": [],
   "source": [
    "import os, time, shutil\n",
    "from pathlib import Path\n",
    "from glob import glob\n",
    "import numpy as np\n",
    "import spikeinterface.full as si\n",
    "import matplotlib.pyplot as plt"
   ]
  },
  {
   "cell_type": "code",
   "execution_count": 2,
   "id": "33b90522",
   "metadata": {},
   "outputs": [
    {
     "name": "stdout",
     "output_type": "stream",
     "text": [
      "Setting KILOSORT2_5_PATH environment variable for subprocess calls to: /home/phornauer/Git/Kilosort_2020b\n",
      "{'detect_threshold': 5.5, 'projection_threshold': [10, 4], 'preclust_threshold': 8, 'car': True, 'minFR': 0.01, 'minfr_goodchannels': 0.01, 'nblocks': 5, 'sig': 20, 'freq_min': 150, 'sigmaMask': 30, 'nPCs': 3, 'ntbuff': 64, 'nfilt_factor': 4, 'NT': None, 'do_correction': False, 'wave_length': 61, 'keep_good_only': False, 'n_jobs': -1, 'total_memory': None, 'chunk_size': None, 'chunk_memory': None, 'chunk_duration': '1s', 'progress_bar': True}\n"
     ]
    }
   ],
   "source": [
    "sorter = 'kilosort2_5'\n",
    "si.Kilosort2_5Sorter.set_kilosort2_5_path('/home/phornauer/Git/Kilosort_2020b')\n",
    "sorter_params = si.get_default_sorter_params(si.Kilosort2_5Sorter)\n",
    "sorter_params['n_jobs'] = -1\n",
    "sorter_params['detect_threshold'] = 5.5\n",
    "sorter_params['minFR'] = 0.01\n",
    "sorter_params['minfr_goodchannels'] = 0.01\n",
    "sorter_params['keep_good_only'] = False\n",
    "sorter_params['do_correction'] = False\n",
    "print(sorter_params)"
   ]
  },
  {
   "cell_type": "code",
   "execution_count": 295,
   "id": "7430401d",
   "metadata": {},
   "outputs": [],
   "source": [
    "def clean_sorting(rec, save_root, stream_name):\n",
    "    \n",
    "    # Creates output folder, sorts and clears large temporary files\n",
    "    save_path = os.path.join(save_root,stream_name)\n",
    "    output_folder = Path(os.path.join(save_path, 'sorted'))\n",
    "    \n",
    "    if not os.path.exists(os.path.join(output_folder,'amplitudes.npy')):\n",
    "        output_folder.mkdir(parents=True, exist_ok=True)\n",
    "        raw_file = os.path.join(output_folder,'recording.dat')\n",
    "        wh_file = os.path.join(output_folder, 'temp_wh.dat')\n",
    "        \n",
    "        print(f\"DURATION: {rec.get_num_frames() / rec.get_sampling_frequency()} s -- \"\n",
    "                f\"NUM. CHANNELS: {rec.get_num_channels()}\")\n",
    "        \n",
    "        try:\n",
    "            t_start_sort = time.time()\n",
    "            sorting = si.run_sorter(sorter, rec, output_folder=output_folder, verbose=True,\n",
    "                                    **sorter_params)\n",
    "            print(f\"\\n\\nSpike sorting elapsed time {time.time() - t_start_sort} s\")\n",
    "            \n",
    "            #Making sure we clean up the temporary .npy files\n",
    "            if os.path.exists(wh_file):\n",
    "                os.remove(wh_file)\n",
    "            if os.path.exists(raw_file):\n",
    "                os.remove(raw_file)\n",
    "        except Exception:\n",
    "            if os.path.exists(wh_file):\n",
    "                os.remove(wh_file)\n",
    "            if os.path.exists(raw_file):\n",
    "                os.remove(raw_file)\n",
    "                \n",
    "    return sorting"
   ]
  },
  {
   "cell_type": "code",
   "execution_count": 9,
   "id": "92e7e26b",
   "metadata": {},
   "outputs": [],
   "source": [
    "file_path = \"/net/bs-filesvr02/export/group/hierlemann/recordings/Maxtwo/nobenz/230427/How_old/M05562/AxonTracking/000004/\"\n",
    "file_name = \"data.raw.h5\"\n",
    "full_path = os.path.join(file_path,file_name)\n",
    "stream_name = \"well001\""
   ]
  },
  {
   "cell_type": "code",
   "execution_count": 64,
   "id": "941df932",
   "metadata": {},
   "outputs": [
    {
     "name": "stdout",
     "output_type": "stream",
     "text": [
      "1004\n",
      "269\n",
      "268\n",
      "268\n",
      "268\n",
      "268\n",
      "268\n",
      "268\n",
      "268\n",
      "268\n",
      "268\n",
      "268\n",
      "268\n",
      "268\n",
      "268\n",
      "268\n",
      "268\n",
      "268\n",
      "268\n",
      "268\n",
      "268\n",
      "268\n",
      "268\n",
      "268\n",
      "268\n",
      "268\n",
      "268\n",
      "268\n",
      "268\n",
      "268\n",
      "268\n",
      "268\n",
      "268\n",
      "268\n",
      "268\n"
     ]
    }
   ],
   "source": [
    "assert(os.path.exists(full_path))\n",
    "rec_id = 0\n",
    "common_el = list(range(30000))\n",
    "while True:\n",
    "    rec_name = 'rec' + '%0*d' % (4, rec_id)\n",
    "    try:\n",
    "        rec = si.MaxwellRecordingExtractor(full_path,stream_name=stream_name,rec_name=rec_name)\n",
    "        rec_el = rec.get_property(\"contact_vector\")[\"electrode\"]\n",
    "        common_el = list(set(common_el).intersection(rec_el))\n",
    "        rec_id += 1\n",
    "    except Exception:\n",
    "        break\n",
    "            "
   ]
  },
  {
   "cell_type": "code",
   "execution_count": 273,
   "id": "1ebdb63b",
   "metadata": {},
   "outputs": [],
   "source": [
    "rec_list = []\n",
    "for r in range(rec_id): #rec_id\n",
    "    rec_name = 'rec' + '%0*d' % (4, r)\n",
    "    rec = si.MaxwellRecordingExtractor(full_path,stream_name=stream_name,rec_name=rec_name)\n",
    "    ch_id = rec.get_property(\"contact_vector\")['device_channel_indices']\n",
    "    rec_el = rec.get_property(\"contact_vector\")[\"electrode\"]\n",
    "    chan_idx = [np.where(rec_el == el)[0][0] for el in common_el]\n",
    "    \n",
    "    rec_list.append(rec.channel_slice(rec.get_channel_ids()[chan_idx], renamed_channel_ids=list(range(len(chan_idx)))))\n",
    "\n",
    "multirecording = si.concatenate_recordings(rec_list)"
   ]
  },
  {
   "cell_type": "code",
   "execution_count": 291,
   "id": "eb26adb2",
   "metadata": {},
   "outputs": [],
   "source": [
    "path_parts = file_path.split('/')\n",
    "path_parts[0] = '/'\n",
    "path_parts[6] = 'intermediate_data'\n",
    "path_parts[8] = 'phornauer'\n",
    "save_root = os.path.join(*path_parts[0:12])"
   ]
  },
  {
   "cell_type": "code",
   "execution_count": 294,
   "id": "07bc22de",
   "metadata": {},
   "outputs": [
    {
     "name": "stdout",
     "output_type": "stream",
     "text": [
      "DURATION: 1920.7 s -- NUM. CHANNELS: 268\n",
      "RUNNING SHELL SCRIPT: /tmp/tmp_shellscriptkid7bbhu/script.sh\n"
     ]
    },
    {
     "data": {
      "application/vnd.jupyter.widget-view+json": {
       "model_id": "c8a9a68e77df43239a570ac0b025e990",
       "version_major": 2,
       "version_minor": 0
      },
      "text/plain": [
       "write_binary_recording:   0%|          | 0/1921 [00:00<?, ?it/s]"
      ]
     },
     "metadata": {},
     "output_type": "display_data"
    },
    {
     "name": "stdout",
     "output_type": "stream",
     "text": [
      "RUNNING SHELL SCRIPT: /tmp/tmp_shellscriptbnt08uff/script.sh\n",
      "RUNNING SHELL SCRIPT: /tmp/tmp_shellscript3ub7to9a/script.sh\n",
      "RUNNING SHELL SCRIPT: /net/bs-filesvr02/export/group/hierlemann/intermediate_data/Maxtwo/phornauer/230427/How_old/M05562/well001/sorted/run_kilosort2_5.sh\n",
      "\n",
      "\n",
      "                                                                              < M A T L A B (R) >\n",
      "\n",
      "                                                                    Copyright 1984-2020 The MathWorks, Inc.\n",
      "\n",
      "                                                                    R2020b (9.9.0.1467703) 64-bit (glnxa64)\n",
      "\n",
      "                                                                                August 26, 2020\n",
      "\n",
      "\n",
      "\n",
      " \n",
      "\n",
      "To get started, type doc.\n",
      "\n",
      "For product information, visit www.mathworks.com.\n",
      "\n",
      " \n",
      "\n",
      "Time   0s. Computing whitening matrix.. \n",
      "\n",
      "Getting channel whitening matrix... \n",
      "\n",
      "Channel-whitening matrix computed. \n",
      "\n",
      "Time   6s. Loading raw data and applying filters... \n",
      "\n",
      "Time  57s. Finished preprocessing 293 batches. \n",
      "\n",
      "Drift correction DISABLED\n",
      "\n",
      "pitch is 1.750000e+01 um\n",
      "\n",
      "0.36 sec, 1 batches, 6239 spikes \n",
      "\n",
      "19.54 sec, 101 batches, 637186 spikes \n",
      "\n",
      "38.63 sec, 201 batches, 1270814 spikes \n",
      "\n",
      "56.19 sec, 293 batches, 1877861 spikes \n",
      "\n",
      "time 68.18, Skipped shifting 293 batches. \n",
      "\n",
      "Time  70s. Optimizing templates ...\n",
      "\n",
      "71.02 sec, 1 / 293 batches, 34 units, nspks: 33.6878, mu: 10.0000, nst0: 631, merges: 1.1000, 0.1000, 2.1000 \n",
      "\n",
      "88.06 sec, 101 / 293 batches, 544 units, nspks: 2039.2348, mu: 21.3423, nst0: 3377, merges: 91.6024, 2.1245, 26.9723 \n",
      "\n",
      "111.63 sec, 201 / 293 batches, 839 units, nspks: 2941.6354, mu: 19.3795, nst0: 3200, merges: 118.2809, 0.8515, 27.5731 \n",
      "\n",
      "Elapsed time is 136.946540 seconds.\n",
      "\n",
      "Finished learning templates \n",
      "\n",
      "Time 145s. Optimizing templates ...\n",
      "\n",
      "145.22 sec, 1 / 293 batches, 892 units, nspks: 2495.0000, mu: 18.3593, nst0: 5353 \n",
      "\n",
      "174.60 sec, 101 / 293 batches, 892 units, nspks: 293110.0000, mu: 18.3593, nst0: 4980 \n",
      "\n",
      "204.01 sec, 201 / 293 batches, 892 units, nspks: 606560.0000, mu: 18.3593, nst0: 5623 \n",
      "\n",
      "Elapsed time is 233.210576 seconds.\n",
      "\n",
      "Number of spikes before applying cutoff: 1779160\n",
      "\n",
      "initialized spike counts\n",
      "\n",
      "merged 212 into 213 \n",
      "\n",
      "merged 459 into 460 \n",
      "\n",
      "merged 20 into 17 \n",
      "\n",
      "merged 429 into 427 \n",
      "\n",
      "merged 189 into 190 \n",
      "\n",
      "merged 561 into 560 \n",
      "\n",
      "merged 403 into 402 \n",
      "\n",
      "merged 816 into 815 \n",
      "\n",
      "merged 39 into 38 \n",
      "\n",
      "merged 600 into 597 \n",
      "\n",
      "merged 678 into 676 \n",
      "\n",
      "merged 623 into 622 \n",
      "\n",
      "merged 282 into 280 \n",
      "\n",
      "merged 387 into 385 \n",
      "\n",
      "merged 58 into 55 \n",
      "\n",
      "merged 233 into 234 \n",
      "\n",
      "merged 518 into 514 \n",
      "\n",
      "merged 859 into 857 \n",
      "\n",
      "merged 642 into 643 \n",
      "\n",
      "merged 738 into 739 \n",
      "\n",
      "merged 308 into 307 \n",
      "\n",
      "merged 68 into 66 \n",
      "\n",
      "merged 470 into 468 \n",
      "\n",
      "merged 37 into 36 \n",
      "\n",
      "merged 604 into 603 \n",
      "\n",
      "merged 483 into 479 \n",
      "\n",
      "merged 318 into 319 \n",
      "\n",
      "merged 280 into 283 \n",
      "\n",
      "merged 763 into 764 \n",
      "\n",
      "merged 398 into 399 \n",
      "\n",
      "merged 800 into 798 \n",
      "\n",
      "merged 155 into 148 \n",
      "\n",
      "merged 307 into 306 \n",
      "\n",
      "merged 77 into 76 \n",
      "\n",
      "merged 556 into 554 \n",
      "\n",
      "merged 89 into 86 \n",
      "\n",
      "merged 847 into 848 \n",
      "\n",
      "merged 683 into 680 \n",
      "\n",
      "merged 105 into 103 \n",
      "\n",
      "merged 479 into 480 \n",
      "\n",
      "merged 488 into 489 \n",
      "\n",
      "merged 207 into 208 \n",
      "\n",
      "merged 636 into 635 \n",
      "\n",
      "merged 255 into 253 \n",
      "\n",
      "merged 641 into 638 \n",
      "\n",
      "merged 608 into 605 \n",
      "\n",
      "merged 502 into 504 \n",
      "\n",
      "merged 269 into 268 \n",
      "\n",
      "merged 521 into 513 \n",
      "\n",
      "merged 661 into 658 \n",
      "\n",
      "merged 635 into 631 \n",
      "\n",
      "merged 644 into 643 \n",
      "\n",
      "merged 691 into 689 \n",
      "\n",
      "merged 692 into 689 \n",
      "\n",
      "merged 673 into 672 \n",
      "\n",
      "merged 629 into 628 \n",
      "\n",
      "merged 73 into 72 \n",
      "\n",
      "merged 578 into 577 \n",
      "\n",
      "merged 167 into 162 \n",
      "\n",
      "merged 508 into 509 \n",
      "\n",
      "merged 418 into 419 \n",
      "\n",
      "merged 764 into 759 \n",
      "\n",
      "merged 554 into 551 \n",
      "\n",
      "merged 433 into 431 \n",
      "\n",
      "merged 824 into 823 \n",
      "\n",
      "merged 765 into 759 \n",
      "\n",
      "merged 685 into 684 \n",
      "\n",
      "merged 823 into 820 \n",
      "\n",
      "merged 653 into 651 \n",
      "\n",
      "merged 17 into 18 \n",
      "\n",
      "merged 90 into 88 \n",
      "\n",
      "merged 576 into 575 \n",
      "\n",
      "merged 688 into 687 \n",
      "\n",
      "merged 503 into 504 \n",
      "\n",
      "merged 61 into 60 \n",
      "\n",
      "merged 122 into 124 \n",
      "\n",
      "merged 277 into 407 \n",
      "\n",
      "merged 815 into 814 \n",
      "\n",
      "merged 714 into 712 \n",
      "\n",
      "merged 74 into 75 \n",
      "\n",
      "merged 669 into 670 \n",
      "\n",
      "merged 792 into 791 \n",
      "\n",
      "merged 838 into 840 \n",
      "\n",
      "merged 57 into 60 \n",
      "\n",
      "merged 681 into 679 \n",
      "\n",
      "merged 573 into 571 \n",
      "\n",
      "merged 529 into 531 \n",
      "\n",
      "merged 87 into 88 \n",
      "\n",
      "merged 436 into 435 \n",
      "\n",
      "merged 60 into 55 \n",
      "\n",
      "merged 401 into 400 \n",
      "\n",
      "merged 116 into 117 \n",
      "\n",
      "merged 42 into 43 \n",
      "\n",
      "merged 224 into 222 \n",
      "\n",
      "merged 125 into 126 \n",
      "\n",
      "merged 675 into 674 \n",
      "\n",
      "merged 672 into 671 \n",
      "\n",
      "merged 883 into 884 \n",
      "\n",
      "merged 781 into 780 \n",
      "\n",
      "merged 666 into 665 \n",
      "\n",
      "merged 388 into 389 \n",
      "\n",
      "merged 203 into 208 \n",
      "\n",
      "merged 517 into 513 \n",
      "\n",
      "merged 593 into 589 \n",
      "\n",
      "merged 655 into 656 \n",
      "\n",
      "merged 835 into 837 \n",
      "\n",
      "merged 59 into 55 \n",
      "\n",
      "merged 184 into 185 \n",
      "\n",
      "merged 165 into 164 \n",
      "\n",
      "merged 361 into 362 \n",
      "\n",
      "merged 53 into 56 \n",
      "\n",
      "merged 356 into 355 \n",
      "\n",
      "merged 416 into 417 \n",
      "\n",
      "merged 143 into 142 \n",
      "\n",
      "merged 890 into 889 \n",
      "\n",
      "merged 552 into 555 \n",
      "\n",
      "merged 228 into 226 \n",
      "\n",
      "merged 257 into 258 \n",
      "\n",
      "merged 447 into 449 \n",
      "\n",
      "merged 367 into 370 \n",
      "\n",
      "merged 369 into 371 \n",
      "\n",
      "merged 379 into 375 \n",
      "\n",
      "merged 5 into 2 \n",
      "\n",
      "merged 162 into 164 \n",
      "\n",
      "merged 506 into 509 \n",
      "\n",
      "merged 266 into 268 \n",
      "\n",
      "merged 65 into 64 \n",
      "\n",
      "merged 842 into 841 \n",
      "\n",
      "merged 363 into 364 \n",
      "\n",
      "merged 460 into 457 \n",
      "\n",
      "merged 66 into 64 \n",
      "\n",
      "merged 202 into 264 \n",
      "\n",
      "merged 670 into 671 \n",
      "\n",
      "merged 71 into 69 \n",
      "\n",
      "merged 278 into 284 \n",
      "\n",
      "merged 348 into 349 \n",
      "\n",
      "merged 239 into 240 \n",
      "\n",
      "merged 204 into 206 \n",
      "\n",
      "merged 252 into 250 \n",
      "\n",
      "merged 19 into 18 \n",
      "\n",
      "merged 97 into 93 \n",
      "\n",
      "merged 501 into 375 \n",
      "\n",
      "merged 261 into 262 \n",
      "\n",
      "merged 383 into 384 \n",
      "\n",
      "merged 21 into 22 \n",
      "\n",
      "merged 711 into 712 \n",
      "\n",
      "merged 417 into 145 \n",
      "\n",
      "merged 472 into 474 \n",
      "\n",
      "merged 281 into 279 \n",
      "\n",
      "merged 857 into 856 \n",
      "\n",
      "merged 44 into 43 \n",
      "\n",
      "merged 301 into 299 \n",
      "\n",
      "merged 537 into 538 \n",
      "\n",
      "merged 745 into 744 \n",
      "\n",
      "merged 414 into 415 \n",
      "\n",
      "merged 120 into 119 \n",
      "\n",
      "merged 822 into 820 \n",
      "\n",
      "merged 736 into 737 \n",
      "\n",
      "merged 833 into 832 \n",
      "\n",
      "merged 141 into 139 \n",
      "\n",
      "merged 710 into 713 \n",
      "\n",
      "merged 183 into 182 \n",
      "\n",
      "merged 52 into 56 \n",
      "\n",
      "merged 442 into 441 \n",
      "\n",
      "merged 118 into 113 \n",
      "\n",
      "merged 130 into 129 \n",
      "\n",
      "merged 579 into 581 \n",
      "\n",
      "merged 355 into 357 \n",
      "\n",
      "merged 404 into 400 \n",
      "\n",
      "merged 109 into 108 \n",
      "\n",
      "merged 526 into 527 \n",
      "\n",
      "merged 152 into 153 \n",
      "\n",
      "merged 740 into 742 \n",
      "\n",
      "merged 606 into 605 \n",
      "\n",
      "merged 795 into 797 \n",
      "\n",
      "merged 4 into 2 \n",
      "\n",
      "merged 327 into 450 \n",
      "\n",
      "merged 413 into 415 \n",
      "\n",
      "merged 695 into 694 \n",
      "\n",
      "merged 540 into 541 \n",
      "\n",
      "merged 33 into 34 \n",
      "\n",
      "merged 806 into 805 \n",
      "\n",
      "merged 757 into 756 \n",
      "\n",
      "merged 250 into 251 \n",
      "\n",
      "merged 679 into 682 \n",
      "\n",
      "merged 242 into 238 \n",
      "\n",
      "merged 850 into 851 \n",
      "\n",
      "merged 366 into 370 \n",
      "\n",
      "merged 580 into 581 \n",
      "\n",
      "merged 215 into 220 \n",
      "\n",
      "merged 67 into 69 \n",
      "\n",
      "merged 583 into 585 \n",
      "\n",
      "merged 496 into 497 \n",
      "\n",
      "merged 627 into 625 \n",
      "\n",
      "merged 175 into 172 \n",
      "\n",
      "merged 616 into 615 \n",
      "\n",
      "merged 176 into 170 \n",
      "\n",
      "merged 871 into 870 \n",
      "\n",
      "merged 469 into 467 \n",
      "\n",
      "merged 128 into 127 \n",
      "\n",
      "merged 196 into 197 \n",
      "\n",
      "merged 633 into 632 \n",
      "\n",
      "merged 241 into 240 \n",
      "\n",
      "merged 221 into 222 \n",
      "\n",
      "merged 462 into 463 \n",
      "\n",
      "merged 219 into 214 \n",
      "\n",
      "merged 703 into 702 \n",
      "\n",
      "merged 8 into 11 \n",
      "\n",
      "merged 336 into 338 \n",
      "\n",
      "merged 728 into 729 \n",
      "\n",
      "merged 106 into 103 \n",
      "\n",
      "merged 256 into 259 \n",
      "\n",
      "merged 181 into 832 \n",
      "\n",
      "merged 519 into 513 \n",
      "\n",
      "merged 548 into 549 \n",
      "\n",
      "merged 536 into 535 \n",
      "\n",
      "merged 86 into 85 \n",
      "\n",
      "merged 455 into 457 \n",
      "\n",
      "merged 789 into 790 \n",
      "\n",
      "merged 597 into 599 \n",
      "\n",
      "merged 88 into 85 \n",
      "\n",
      "merged 854 into 855 \n",
      "\n",
      "merged 610 into 612 \n",
      "\n",
      "merged 332 into 333 \n",
      "\n",
      "merged 364 into 362 \n",
      "\n",
      "merged 84 into 83 \n",
      "\n",
      "merged 405 into 406 \n",
      "\n",
      "merged 237 into 238 \n",
      "\n",
      "merged 646 into 648 \n",
      "\n",
      "merged 866 into 867 \n",
      "\n",
      "merged 724 into 725 \n",
      "\n",
      "merged 886 into 887 \n",
      "\n",
      "merged 879 into 880 \n",
      "\n",
      "merged 13 into 14 \n",
      "\n",
      "merged 553 into 555 \n",
      "\n",
      "merged 844 into 846 \n",
      "\n",
      "merged 173 into 170 \n",
      "\n",
      "Found 1 splits, checked 1/893 clusters, nccg 0 \n",
      "\n",
      "Found 28 splits, checked 101/920 clusters, nccg 33 \n",
      "\n",
      "Found 58 splits, checked 201/950 clusters, nccg 81 \n",
      "\n",
      "Found 90 splits, checked 301/982 clusters, nccg 119 \n",
      "\n",
      "Found 132 splits, checked 401/1024 clusters, nccg 168 \n",
      "\n",
      "Found 155 splits, checked 501/1047 clusters, nccg 210 \n",
      "\n",
      "Found 176 splits, checked 601/1068 clusters, nccg 251 \n",
      "\n",
      "Found 198 splits, checked 701/1090 clusters, nccg 286 \n",
      "\n",
      "Found 239 splits, checked 801/1131 clusters, nccg 332 \n",
      "\n",
      "Found 274 splits, checked 901/1166 clusters, nccg 376 \n",
      "\n",
      "Found 304 splits, checked 1001/1196 clusters, nccg 445 \n",
      "\n",
      "Found 305 splits, checked 1001/1197 clusters, nccg 445 \n",
      "\n",
      "Found 335 splits, checked 1101/1227 clusters, nccg 507 \n",
      "\n",
      "Found 360 splits, checked 1201/1252 clusters, nccg 563 \n",
      "\n",
      "Finished splitting. Found 363 splits, checked 1255/1255 clusters, nccg 595 \n",
      "\n",
      "Removing 631283 spikes below cutoff from rez.\n",
      "\n",
      "found 433 good units \n",
      "\n",
      "Saving results to Phy  \n",
      "\n"
     ]
    },
    {
     "name": "stdout",
     "output_type": "stream",
     "text": [
      "kilosort2_5 run time 500.91s\n",
      "\n",
      "\n",
      "Spike sorting elapsed time 715.6312921047211 s\n"
     ]
    }
   ],
   "source": [
    "sorting = clean_sorting(multirecording, save_root, stream_name)"
   ]
  },
  {
   "cell_type": "code",
   "execution_count": 278,
   "id": "ad6ed509",
   "metadata": {},
   "outputs": [
    {
     "data": {
      "text/plain": [
       "<spikeinterface.widgets.matplotlib.timeseries.TimeseriesPlotter at 0x7f7c36e85fd0>"
      ]
     },
     "execution_count": 278,
     "metadata": {},
     "output_type": "execute_result"
    },
    {
     "data": {
      "image/png": "[encoded data removed]",
      "text/plain": [
       "<Figure size 640x480 with 1 Axes>"
      ]
     },
     "metadata": {},
     "output_type": "display_data"
    }
   ],
   "source": [
    "si.plot_timeseries(multirecording, channel_ids = [4],time_range = [1200,1300])"
   ]
  },
  {
   "cell_type": "code",
   "execution_count": 297,
   "id": "b3173473",
   "metadata": {},
   "outputs": [],
   "source": [
    "sorting = si.KiloSortSortingExtractor('/net/bs-filesvr02/export/group/hierlemann/intermediate_data/Maxtwo/phornauer/230427/How_old/M05562/well001/sorted/')"
   ]
  },
  {
   "cell_type": "code",
   "execution_count": 302,
   "id": "4c758ccc",
   "metadata": {},
   "outputs": [
    {
     "data": {
      "text/plain": [
       "<spikeinterface.widgets._legacy_mpl_widgets.rasters.RasterWidget at 0x7f7c36e7a400>"
      ]
     },
     "execution_count": 302,
     "metadata": {},
     "output_type": "execute_result"
    },
    {
     "data": {
      "image/png": "[encoded data removed]",
      "text/plain": [
       "<Figure size 640x480 with 1 Axes>"
      ]
     },
     "metadata": {},
     "output_type": "display_data"
    }
   ],
   "source": [
    "si.plot_rasters(sorting, time_range = [0,10])"
   ]
  },
  {
   "cell_type": "code",
   "execution_count": 314,
   "id": "c0a1fce5",
   "metadata": {},
   "outputs": [
    {
     "data": {
      "text/plain": [
       "1920.6896"
      ]
     },
     "execution_count": 314,
     "metadata": {},
     "output_type": "execute_result"
    }
   ],
   "source": [
    "19206896/10000"
   ]
  },
  {
   "cell_type": "code",
   "execution_count": 315,
   "id": "13ba2cf5",
   "metadata": {},
   "outputs": [
    {
     "data": {
      "text/plain": [
       "1920.7"
      ]
     },
     "execution_count": 315,
     "metadata": {},
     "output_type": "execute_result"
    }
   ],
   "source": [
    "multirecording.get_total_duration()"
   ]
  },
  {
   "cell_type": "code",
   "execution_count": 317,
   "id": "d5894687",
   "metadata": {},
   "outputs": [],
   "source": [
    "rec_name = 'rec0000'\n",
    "rec = si.MaxwellRecordingExtractor(full_path,stream_name=stream_name,rec_name=rec_name)"
   ]
  },
  {
   "cell_type": "code",
   "execution_count": 330,
   "id": "ce1d9e09",
   "metadata": {},
   "outputs": [
    {
     "data": {
      "text/plain": [
       "UnitsSelectionSorting: 1010 units - 1 segments - 10.0kHz"
      ]
     },
     "execution_count": 330,
     "metadata": {},
     "output_type": "execute_result"
    }
   ],
   "source": [
    "sorting"
   ]
  },
  {
   "cell_type": "code",
   "execution_count": 335,
   "id": "3422b698",
   "metadata": {},
   "outputs": [],
   "source": [
    "frame_slice = si.FrameSliceSorting(parent_sorting = sorting, start_frame = 0, end_frame=668200)"
   ]
  },
  {
   "cell_type": "code",
   "execution_count": 337,
   "id": "1f694e31",
   "metadata": {},
   "outputs": [],
   "source": [
    "wf_folder = '/net/bs-filesvr02/export/group/hierlemann/intermediate_data/Maxtwo/phornauer/230427/How_old/M05562/well001/sorted/wf/'"
   ]
  },
  {
   "cell_type": "code",
   "execution_count": 340,
   "id": "0e349200",
   "metadata": {},
   "outputs": [],
   "source": [
    "we = si.extract_waveforms(rec, frame_slice, wf_folder,\n",
    "                          ms_before=1, ms_after=2., max_spikes_per_unit=500,\n",
    "                          n_jobs=-1, chunk_size=30000, allow_unfiltered=True)"
   ]
  },
  {
   "cell_type": "code",
   "execution_count": 343,
   "id": "de4f4d53",
   "metadata": {},
   "outputs": [
    {
     "name": "stderr",
     "output_type": "stream",
     "text": [
      "/home/phornauer/Git/spikeinterface/spikeinterface/widgets/unit_waveforms.py:177: RuntimeWarning: divide by zero encountered in double_scalars\n",
      "  y_scale = delta_y / m * 0.7\n"
     ]
    },
    {
     "data": {
      "text/plain": [
       "<spikeinterface.widgets.unit_waveforms.UnitWaveformsWidget at 0x7f7c2a5c1880>"
      ]
     },
     "execution_count": 343,
     "metadata": {},
     "output_type": "execute_result"
    }
   ],
   "source": [
    "si.UnitWaveformsWidget(we, unit_ids = [0])"
   ]
  },
  {
   "cell_type": "code",
   "execution_count": 403,
   "id": "850a3a1e",
   "metadata": {},
   "outputs": [],
   "source": [
    "wf = we.get_waveforms(6)\n",
    "wf_offset = wf - np.median(wf,axis=[0,1])"
   ]
  },
  {
   "cell_type": "code",
   "execution_count": 381,
   "id": "51511e9d",
   "metadata": {},
   "outputs": [
    {
     "data": {
      "text/plain": [
       "-18.882568"
      ]
     },
     "execution_count": 381,
     "metadata": {},
     "output_type": "execute_result"
    }
   ],
   "source": [
    "wf_offset[1,1,3]"
   ]
  },
  {
   "cell_type": "code",
   "execution_count": 410,
   "id": "429354b3",
   "metadata": {},
   "outputs": [
    {
     "data": {
      "text/plain": [
       "(30, 1004)"
      ]
     },
     "execution_count": 410,
     "metadata": {},
     "output_type": "execute_result"
    }
   ],
   "source": [
    "mean_wf = np.mean(wf_offset,axis=0)\n",
    "mean_wf.shape"
   ]
  },
  {
   "cell_type": "code",
   "execution_count": 411,
   "id": "baddcc6d",
   "metadata": {},
   "outputs": [],
   "source": [
    "r,c = np.where(mean_wf == np.min(mean_wf))"
   ]
  },
  {
   "cell_type": "code",
   "execution_count": 412,
   "id": "95715afa",
   "metadata": {},
   "outputs": [],
   "source": [
    "sig_idx = [any(mean_wf[:,w] < -10) for w in range(1004)]"
   ]
  },
  {
   "cell_type": "code",
   "execution_count": 413,
   "id": "5f7bb34c",
   "metadata": {},
   "outputs": [
    {
     "data": {
      "text/plain": [
       "(array([372, 641, 653, 693, 797, 801, 805, 809, 813, 989]),)"
      ]
     },
     "execution_count": 413,
     "metadata": {},
     "output_type": "execute_result"
    }
   ],
   "source": [
    "np.where(sig_idx)"
   ]
  },
  {
   "cell_type": "code",
   "execution_count": 414,
   "id": "af86bcfc",
   "metadata": {},
   "outputs": [
    {
     "data": {
      "text/plain": [
       "[<matplotlib.lines.Line2D at 0x7f7c1fcbdd90>,\n",
       " <matplotlib.lines.Line2D at 0x7f7c1fcbddf0>,\n",
       " <matplotlib.lines.Line2D at 0x7f7c1fcbde20>,\n",
       " <matplotlib.lines.Line2D at 0x7f7c1fcbdf10>,\n",
       " <matplotlib.lines.Line2D at 0x7f7c1fcca040>,\n",
       " <matplotlib.lines.Line2D at 0x7f7c1fcca130>,\n",
       " <matplotlib.lines.Line2D at 0x7f7c1fcca220>,\n",
       " <matplotlib.lines.Line2D at 0x7f7c1fcca310>,\n",
       " <matplotlib.lines.Line2D at 0x7f7c1fcca400>,\n",
       " <matplotlib.lines.Line2D at 0x7f7c1fcca4f0>]"
      ]
     },
     "execution_count": 414,
     "metadata": {},
     "output_type": "execute_result"
    },
    {
     "data": {
      "image/png": "[encoded data removed]",
      "text/plain": [
       "<Figure size 640x480 with 1 Axes>"
      ]
     },
     "metadata": {},
     "output_type": "display_data"
    }
   ],
   "source": [
    "plt.plot(mean_wf[:,np.where(sig_idx)[0]])"
   ]
  },
  {
   "cell_type": "code",
   "execution_count": 400,
   "id": "2b2454cc",
   "metadata": {},
   "outputs": [
    {
     "ename": "ValueError",
     "evalue": "372 is not in list",
     "output_type": "error",
     "traceback": [
      "\u001b[0;31m---------------------------------------------------------------------------\u001b[0m",
      "\u001b[0;31mValueError\u001b[0m                                Traceback (most recent call last)",
      "Cell \u001b[0;32mIn[400], line 1\u001b[0m\n\u001b[0;32m----> 1\u001b[0m \u001b[43msi\u001b[49m\u001b[38;5;241;43m.\u001b[39;49m\u001b[43mUnitWaveformsWidget\u001b[49m\u001b[43m(\u001b[49m\u001b[43mwe\u001b[49m\u001b[43m,\u001b[49m\u001b[43m \u001b[49m\u001b[43mchannel_ids\u001b[49m\u001b[43m \u001b[49m\u001b[38;5;241;43m=\u001b[39;49m\u001b[43m \u001b[49m\u001b[43mnp\u001b[49m\u001b[38;5;241;43m.\u001b[39;49m\u001b[43mwhere\u001b[49m\u001b[43m(\u001b[49m\u001b[43msig_idx\u001b[49m\u001b[43m)\u001b[49m\u001b[43m[\u001b[49m\u001b[38;5;241;43m0\u001b[39;49m\u001b[43m]\u001b[49m\u001b[43m,\u001b[49m\u001b[43m \u001b[49m\u001b[43munit_ids\u001b[49m\u001b[43m \u001b[49m\u001b[38;5;241;43m=\u001b[39;49m\u001b[43m \u001b[49m\u001b[38;5;241;43m6\u001b[39;49m\u001b[43m)\u001b[49m\n",
      "File \u001b[0;32m~/Git/spikeinterface/spikeinterface/widgets/unit_waveforms.py:91\u001b[0m, in \u001b[0;36mUnitWaveformsWidget.__init__\u001b[0;34m(self, waveform_extractor, channel_ids, unit_ids, plot_waveforms, plot_templates, plot_channels, unit_colors, sparsity, max_channels, radius_um, ncols, lw_waveforms, lw_templates, axis_equal, unit_selected_waveforms, max_spikes_per_unit, set_title, same_axis, x_offset_units, alpha_waveforms, alpha_templates, hide_unit_selector, plot_legend, backend, **backend_kwargs)\u001b[0m\n\u001b[1;32m     88\u001b[0m \u001b[38;5;28;01mif\u001b[39;00m max_channels \u001b[38;5;129;01mis\u001b[39;00m \u001b[38;5;129;01mnot\u001b[39;00m \u001b[38;5;28;01mNone\u001b[39;00m:\n\u001b[1;32m     89\u001b[0m     \u001b[38;5;28;01massert\u001b[39;00m radius_um \u001b[38;5;129;01mis\u001b[39;00m \u001b[38;5;28;01mNone\u001b[39;00m, \u001b[38;5;124m'\u001b[39m\u001b[38;5;124mradius_um and max_channels are mutually exclusive\u001b[39m\u001b[38;5;124m'\u001b[39m\n\u001b[0;32m---> 91\u001b[0m channel_locations \u001b[38;5;241m=\u001b[39m we\u001b[38;5;241m.\u001b[39mget_channel_locations()[\u001b[43mwe\u001b[49m\u001b[38;5;241;43m.\u001b[39;49m\u001b[43mchannel_ids_to_indices\u001b[49m\u001b[43m(\u001b[49m\u001b[43mchannel_ids\u001b[49m\u001b[43m)\u001b[49m]\n\u001b[1;32m     93\u001b[0m \u001b[38;5;66;03m# sparsity is done on all the units even if unit_ids is a few ones because some backend need then all\u001b[39;00m\n\u001b[1;32m     94\u001b[0m \u001b[38;5;28;01mif\u001b[39;00m sparsity \u001b[38;5;129;01mis\u001b[39;00m \u001b[38;5;28;01mNone\u001b[39;00m:\n",
      "File \u001b[0;32m~/Git/spikeinterface/spikeinterface/core/waveform_extractor.py:368\u001b[0m, in \u001b[0;36mWaveformExtractor.channel_ids_to_indices\u001b[0;34m(self, channel_ids)\u001b[0m\n\u001b[1;32m    366\u001b[0m \u001b[38;5;28;01mdef\u001b[39;00m \u001b[38;5;21mchannel_ids_to_indices\u001b[39m(\u001b[38;5;28mself\u001b[39m, channel_ids):\n\u001b[1;32m    367\u001b[0m     \u001b[38;5;28;01mif\u001b[39;00m \u001b[38;5;28mself\u001b[39m\u001b[38;5;241m.\u001b[39mhas_recording():\n\u001b[0;32m--> 368\u001b[0m         \u001b[38;5;28;01mreturn\u001b[39;00m \u001b[38;5;28;43mself\u001b[39;49m\u001b[38;5;241;43m.\u001b[39;49m\u001b[43mrecording\u001b[49m\u001b[38;5;241;43m.\u001b[39;49m\u001b[43mids_to_indices\u001b[49m\u001b[43m(\u001b[49m\u001b[43mchannel_ids\u001b[49m\u001b[43m)\u001b[49m\n\u001b[1;32m    369\u001b[0m     \u001b[38;5;28;01melse\u001b[39;00m:\n\u001b[1;32m    370\u001b[0m         all_channel_ids \u001b[38;5;241m=\u001b[39m \u001b[38;5;28mself\u001b[39m\u001b[38;5;241m.\u001b[39m_rec_attributes[\u001b[38;5;124m'\u001b[39m\u001b[38;5;124mchannel_ids\u001b[39m\u001b[38;5;124m'\u001b[39m]\n",
      "File \u001b[0;32m~/Git/spikeinterface/spikeinterface/core/base.py:103\u001b[0m, in \u001b[0;36mBaseExtractor.ids_to_indices\u001b[0;34m(self, ids, prefer_slice)\u001b[0m\n\u001b[1;32m    101\u001b[0m \u001b[38;5;28;01melse\u001b[39;00m:\n\u001b[1;32m    102\u001b[0m     _main_ids \u001b[38;5;241m=\u001b[39m \u001b[38;5;28mself\u001b[39m\u001b[38;5;241m.\u001b[39m_main_ids\u001b[38;5;241m.\u001b[39mtolist()\n\u001b[0;32m--> 103\u001b[0m     indices \u001b[38;5;241m=\u001b[39m np\u001b[38;5;241m.\u001b[39marray([_main_ids\u001b[38;5;241m.\u001b[39mindex(\u001b[38;5;28mid\u001b[39m) \u001b[38;5;28;01mfor\u001b[39;00m \u001b[38;5;28mid\u001b[39m \u001b[38;5;129;01min\u001b[39;00m ids], dtype\u001b[38;5;241m=\u001b[39m\u001b[38;5;28mint\u001b[39m)\n\u001b[1;32m    104\u001b[0m     \u001b[38;5;28;01mif\u001b[39;00m prefer_slice:\n\u001b[1;32m    105\u001b[0m         \u001b[38;5;28;01mif\u001b[39;00m np\u001b[38;5;241m.\u001b[39mall(np\u001b[38;5;241m.\u001b[39mdiff(indices) \u001b[38;5;241m==\u001b[39m \u001b[38;5;241m1\u001b[39m):\n",
      "File \u001b[0;32m~/Git/spikeinterface/spikeinterface/core/base.py:103\u001b[0m, in \u001b[0;36m<listcomp>\u001b[0;34m(.0)\u001b[0m\n\u001b[1;32m    101\u001b[0m \u001b[38;5;28;01melse\u001b[39;00m:\n\u001b[1;32m    102\u001b[0m     _main_ids \u001b[38;5;241m=\u001b[39m \u001b[38;5;28mself\u001b[39m\u001b[38;5;241m.\u001b[39m_main_ids\u001b[38;5;241m.\u001b[39mtolist()\n\u001b[0;32m--> 103\u001b[0m     indices \u001b[38;5;241m=\u001b[39m np\u001b[38;5;241m.\u001b[39marray([\u001b[43m_main_ids\u001b[49m\u001b[38;5;241;43m.\u001b[39;49m\u001b[43mindex\u001b[49m\u001b[43m(\u001b[49m\u001b[38;5;28;43mid\u001b[39;49m\u001b[43m)\u001b[49m \u001b[38;5;28;01mfor\u001b[39;00m \u001b[38;5;28mid\u001b[39m \u001b[38;5;129;01min\u001b[39;00m ids], dtype\u001b[38;5;241m=\u001b[39m\u001b[38;5;28mint\u001b[39m)\n\u001b[1;32m    104\u001b[0m     \u001b[38;5;28;01mif\u001b[39;00m prefer_slice:\n\u001b[1;32m    105\u001b[0m         \u001b[38;5;28;01mif\u001b[39;00m np\u001b[38;5;241m.\u001b[39mall(np\u001b[38;5;241m.\u001b[39mdiff(indices) \u001b[38;5;241m==\u001b[39m \u001b[38;5;241m1\u001b[39m):\n",
      "\u001b[0;31mValueError\u001b[0m: 372 is not in list"
     ]
    }
   ],
   "source": [
    "si.UnitWaveformsWidget(we, channel_ids = np.where(sig_idx)[0], unit_ids = 6)"
   ]
  },
  {
   "cell_type": "code",
   "execution_count": 229,
   "id": "5fca5c4d",
   "metadata": {},
   "outputs": [
    {
     "data": {
      "text/plain": [
       "<spikeinterface.widgets._legacy_mpl_widgets.probemap.ProbeMapWidget at 0x7f7c37dbd460>"
      ]
     },
     "execution_count": 229,
     "metadata": {},
     "output_type": "execute_result"
    },
    {
     "data": {
      "image/png": "[encoded data removed]",
      "text/plain": [
       "<Figure size 640x480 with 1 Axes>"
      ]
     },
     "metadata": {},
     "output_type": "display_data"
    }
   ],
   "source": [
    "si.plot_probe_map(rec)"
   ]
  }
 ],
 "metadata": {
  "kernelspec": {
   "display_name": "Python 3 (ipykernel)",
   "language": "python",
   "name": "python3"
  },
  "language_info": {
   "codemirror_mode": {
    "name": "ipython",
    "version": 3
   },
   "file_extension": ".py",
   "mimetype": "text/x-python",
   "name": "python",
   "nbconvert_exporter": "python",
   "pygments_lexer": "ipython3",
   "version": "3.9.15"
  }
 },
 "nbformat": 4,
 "nbformat_minor": 5
}
