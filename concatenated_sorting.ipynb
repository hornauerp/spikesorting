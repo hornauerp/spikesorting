{
 "cells": [
  {
   "cell_type": "code",
   "execution_count": null,
   "id": "0025dc46",
   "metadata": {},
   "outputs": [],
   "source": [
    "import os, time, shutil, sys\n",
    "from pathlib import Path\n",
    "from pathlib import Path\n",
    "from glob import glob\n",
    "import h5py\n",
    "import numpy as np\n",
    "import spikeinterface.full as si\n",
    "sys.path.append(\"/home/phornauer/Git/axon_tracking/\")\n",
    "from axon_tracking import spike_sorting as ss"
   ]
  },
  {
   "cell_type": "code",
   "execution_count": null,
   "id": "5bdc55bb",
   "metadata": {},
   "outputs": [],
   "source": [
    "sorter = 'kilosort2_5'\n",
    "si.Kilosort2_5Sorter.set_kilosort2_5_path('/home/phornauer/Git/Kilosort_2020b')\n",
    "sorter_params = si.get_default_sorter_params(si.Kilosort2_5Sorter)\n",
    "sorter_params['n_jobs'] = -1\n",
    "sorter_params['detect_threshold'] = 6\n",
    "sorter_params['minFR'] = 0.01\n",
    "sorter_params['minfr_goodchannels'] = 0.01\n",
    "sorter_params['keep_good_only'] = False\n",
    "sorter_params['do_correction'] = False"
   ]
  },
  {
   "cell_type": "code",
   "execution_count": null,
   "id": "dddbcf34",
   "metadata": {},
   "outputs": [],
   "source": [
    "N_recordings = 3 # Number of recordings per chip/well that need to exist\n",
    "parent_path = '/net/bs-filesvr02/export/group/hierlemann/recordings/Maxtwo/tagamma/'\n",
    "recording_date = '231019'\n",
    "project_name = 'DCZ_*2'\n",
    "chip_id = 'T002443'\n",
    "\n",
    "assay_name = 'Network'\n",
    "assay_id = '0*'\n",
    "file_name = 'data.raw.h5'\n",
    "\n",
    "path_parts = [parent_path, recording_date, project_name, chip_id, assay_name, assay_id, file_name]\n",
    "path_pattern = os.path.join(*path_parts)\n",
    "path_list  = glob(path_pattern)"
   ]
  },
  {
   "cell_type": "markdown",
   "id": "f90803b2",
   "metadata": {},
   "source": [
    "Optional: Manipulate the recording list if needed"
   ]
  },
  {
   "cell_type": "code",
   "execution_count": null,
   "id": "458d1787",
   "metadata": {},
   "outputs": [],
   "source": [
    "path_list.sort()\n",
    "recording_path_list = path_list\n",
    "#recording_path_list.append('/net/bs-filesvr02/export/group/hierlemann/recordings/Maxtwo/nobenz/Chemo_hippo3/230919/M05569/Network/000053/data.raw.h5')\n",
    "recording_path_list"
   ]
  },
  {
   "cell_type": "code",
   "execution_count": null,
   "id": "084b90cd-96c5-4926-8e77-2c4563115973",
   "metadata": {},
   "outputs": [],
   "source": [
    "recording_path_list = [recording_path_list[x] for x in [0,1,2,3,5]]"
   ]
  },
  {
   "cell_type": "markdown",
   "id": "925efa9d",
   "metadata": {},
   "source": [
    "Or specify the recording file list yourself entirely"
   ]
  },
  {
   "cell_type": "code",
   "execution_count": null,
   "id": "4a228b8c-a7e4-49ee-a294-089a5a369d6d",
   "metadata": {},
   "outputs": [],
   "source": [
    "recording_path_list = ['/net/bs-filesvr02/export/group/hierlemann/recordings/Mea1k/phornauer/Practicals/Group5/0000/Network/000111/data.raw.h5',\n",
    "                      '/net/bs-filesvr02/export/group/hierlemann/recordings/Mea1k/phornauer/Practicals/Group5/0000/Network/000114/data.raw.h5']\n",
    "\n",
    "save_root = '/net/bs-filesvr02/export/group/hierlemann/intermediate_data/Mea1k/phornauer/Practicals/Group5/0000/concatenated/'"
   ]
  },
  {
   "cell_type": "markdown",
   "id": "868e9989",
   "metadata": {},
   "source": [
    "Optional: Check if the stream ids are correct"
   ]
  },
  {
   "cell_type": "code",
   "execution_count": null,
   "id": "46577056-b344-4776-b261-143394c5db46",
   "metadata": {},
   "outputs": [],
   "source": [
    "h5 = h5py.File(recording_path_list[-1])\n",
    "stream_ids = list(h5['wells'].keys())\n",
    "stream_ids"
   ]
  },
  {
   "cell_type": "code",
   "execution_count": null,
   "id": "315a35a5-1bb5-46f2-a39a-6f4f23a70635",
   "metadata": {},
   "outputs": [],
   "source": [
    "for stream_id in stream_ids:\n",
    "    \n",
    "    well_recording_list = []\n",
    "    if not os.path.exists(os.path.join(save_root, stream_id,'sorter_output','amplitudes.npy')):\n",
    "        for rec_path in recording_path_list: #Iterate over recordings to be concatenated \n",
    "            \n",
    "            try: # If not all wells were recorded, should be the only cause for an error\n",
    "                rec = si.MaxwellRecordingExtractor(rec_path, stream_id=stream_id)\n",
    "                well_recording_list.append(rec)\n",
    "            except Exception:\n",
    "                continue\n",
    "        \n",
    "        if len(well_recording_list) >= len(recording_path_list):\n",
    "            multirecording = si.concatenate_recordings(well_recording_list) #[:N_recordings]\n",
    "            ss.clean_sorting(rec=multirecording, save_root=save_root, stream_id=stream_id, sorter=sorter, sorter_params=sorter_params)"
   ]
  }
 ],
 "metadata": {
  "kernelspec": {
   "display_name": "Python 3 (ipykernel)",
   "language": "python",
   "name": "python3"
  },
  "language_info": {
   "codemirror_mode": {
    "name": "ipython",
    "version": 3
   },
   "file_extension": ".py",
   "mimetype": "text/x-python",
   "name": "python",
   "nbconvert_exporter": "python",
   "pygments_lexer": "ipython3",
   "version": "3.11.5"
  }
 },
 "nbformat": 4,
 "nbformat_minor": 5
}
