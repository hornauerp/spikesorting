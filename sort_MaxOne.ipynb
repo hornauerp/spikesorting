{
 "cells": [
  {
   "cell_type": "code",
   "execution_count": 1,
   "metadata": {
    "collapsed": true,
    "pycharm": {
     "name": "#%%\n"
    }
   },
   "outputs": [
    {
     "name": "stderr",
     "output_type": "stream",
     "text": [
      "/home/phornauer/miniconda3/envs/elephant/lib/python3.10/site-packages/tqdm/auto.py:22: TqdmWarning: IProgress not found. Please update jupyter and ipywidgets. See https://ipywidgets.readthedocs.io/en/stable/user_install.html\n",
      "  from .autonotebook import tqdm as notebook_tqdm\n"
     ]
    }
   ],
   "source": [
    "import os, time, shutil\n",
    "from pathlib import Path\n",
    "import numpy as np\n",
    "import spikeinterface.full as si"
   ]
  },
  {
   "cell_type": "markdown",
   "metadata": {
    "pycharm": {
     "name": "#%% md\n"
    }
   },
   "source": [
    "Sorting for recording at: /cluster/project/bsse_sdsc/BELUB/Measurements/Cell_line_9/200217/5206/Network/"
   ]
  },
  {
   "cell_type": "code",
   "execution_count": 2,
   "metadata": {
    "pycharm": {
     "name": "#%%\n"
    }
   },
   "outputs": [],
   "source": [
    "input_path = '/net/bs-filesvr02/export/group/hierlemann/recordings/Mea1k/phornauer/DeePhys/'\n",
    "save_path = '/net/bs-filesvr02/export/group/hierlemann/intermediate_data/Mea1k/phornauer/si_test/'\n",
    "rec_date = '220628'\n",
    "chip_id = 'M04256'\n",
    "run_id = '000063'\n",
    "file_name = \"recording.raw.h5\"\n",
    "#rec_path = os.path.join(input_path, rec_date, chip_id, 'Network', )\n",
    "rec_path = os.path.join(input_path, file_name)\n",
    "assert (os.path.exists(rec_path))"
   ]
  },
  {
   "cell_type": "code",
   "execution_count": 3,
   "metadata": {
    "pycharm": {
     "name": "#%%\n"
    }
   },
   "outputs": [
    {
     "data": {
      "text/plain": [
       "{'general': {'ms_before': 2.5, 'ms_after': 3.5, 'local_radius_um': 100},\n",
       " 'waveforms': {'max_spikes_per_unit': 200, 'overwrite': True},\n",
       " 'filtering': {'freq_min': 300, 'dtype': 'float32'},\n",
       " 'detection': {'peak_sign': 'neg', 'detect_threshold': 5},\n",
       " 'selection': {'n_peaks_per_channel': 5000, 'min_n_peaks': 20000},\n",
       " 'localization': {},\n",
       " 'clustering': {},\n",
       " 'matching': {},\n",
       " 'registration': {},\n",
       " 'common_reference': True,\n",
       " 'job_kwargs': {'n_jobs': -1, 'chunk_duration': '1s', 'verbose': False}}"
      ]
     },
     "execution_count": 3,
     "metadata": {},
     "output_type": "execute_result"
    }
   ],
   "source": [
    "si.get_default_sorter_params(si.si_based_sorters.Spykingcircus2Sorter)"
   ]
  },
  {
   "cell_type": "code",
   "execution_count": 20,
   "metadata": {
    "pycharm": {
     "name": "#%%\n"
    }
   },
   "outputs": [
    {
     "data": {
      "text/plain": [
       "{'apply_preprocessing': True,\n",
       " 'general': {'ms_before': 2.5, 'ms_after': 3.5, 'local_radius_um': 100},\n",
       " 'filtering': {'freq_min': 300, 'freq_max': 8000.0},\n",
       " 'detection': {'peak_sign': 'neg',\n",
       "  'detect_threshold': 5,\n",
       "  'exclude_sweep_ms': 0.4},\n",
       " 'hdbscan_kwargs': {'min_cluster_size': 25,\n",
       "  'allow_single_cluster': True,\n",
       "  'core_dist_n_jobs': -1,\n",
       "  'cluster_selection_method': 'leaf'},\n",
       " 'waveforms': {'max_spikes_per_unit': 300},\n",
       " 'selection': {'n_peaks_per_channel': 5000, 'min_n_peaks': 20000},\n",
       " 'localization': {'max_distance_um': 1000,\n",
       "  'optimizer': 'minimize_with_log_penality'},\n",
       " 'matching': {'peak_shift_ms': 0.2},\n",
       " 'job_kwargs': {'n_jobs': -1, 'chunk_duration': '1s', 'progress_bar': True}}"
      ]
     },
     "execution_count": 20,
     "metadata": {},
     "output_type": "execute_result"
    }
   ],
   "source": [
    "si.get_default_sorter_params(si.si_based_sorters.Tridesclous2Sorter)"
   ]
  },
  {
   "cell_type": "code",
   "execution_count": 3,
   "metadata": {
    "pycharm": {
     "name": "#%%\n"
    }
   },
   "outputs": [
    {
     "data": {
      "text/plain": [
       "{'detect_threshold': 6,\n",
       " 'projection_threshold': [10, 4],\n",
       " 'preclust_threshold': 8,\n",
       " 'car': True,\n",
       " 'minFR': 0.1,\n",
       " 'minfr_goodchannels': 0.1,\n",
       " 'freq_min': 150,\n",
       " 'sigmaMask': 30,\n",
       " 'nPCs': 3,\n",
       " 'ntbuff': 64,\n",
       " 'nfilt_factor': 4,\n",
       " 'NT': None,\n",
       " 'wave_length': 61,\n",
       " 'keep_good_only': False,\n",
       " 'n_jobs': 1,\n",
       " 'total_memory': None,\n",
       " 'chunk_size': None,\n",
       " 'chunk_memory': None,\n",
       " 'chunk_duration': '1s',\n",
       " 'progress_bar': True}"
      ]
     },
     "execution_count": 3,
     "metadata": {},
     "output_type": "execute_result"
    }
   ],
   "source": [
    "si.get_default_sorter_params(si.Kilosort2Sorter)"
   ]
  },
  {
   "cell_type": "markdown",
   "metadata": {
    "pycharm": {
     "name": "#%% md\n"
    }
   },
   "source": [
    "si.Kilosort2Sorter.set_kilosort2_path('/home/phornauer/Spikesorters/Kilosort-2.0/')\n",
    "sorter = 'kilosort2'\n",
    "\n",
    "### sorter params - only params of the sorter used ###\n",
    "sorter_params = si.get_default_sorter_params(si.si_based_sorters.Spykingcircus2Sorter)#{\"n_jobs_bin\": 8, \"total_memory\": \"8G\", \"NT\": 8*1024+64}\n",
    "sorter_params['job_kwargs']['n_jobs'] = 16\n",
    "sorter_params['job_kwargs']['chunk_duration'] = '10s'"
   ]
  },
  {
   "cell_type": "code",
   "execution_count": 7,
   "metadata": {
    "pycharm": {
     "name": "#%%\n"
    }
   },
   "outputs": [
    {
     "name": "stdout",
     "output_type": "stream",
     "text": [
      "Setting KILOSORT2_PATH environment variable for subprocess calls to: /home/phornauer/Git/Kilosort2\n"
     ]
    }
   ],
   "source": [
    "si.Kilosort2Sorter.set_kilosort2_path('/home/phornauer/Git/Kilosort2/')\n",
    "sorter = 'kilosort2'\n",
    "sorter_params = si.get_default_sorter_params(si.Kilosort2Sorter)\n",
    "sorter_params['n_jobs'] = 16"
   ]
  },
  {
   "cell_type": "code",
   "execution_count": 8,
   "metadata": {
    "pycharm": {
     "name": "#%%\n"
    }
   },
   "outputs": [],
   "source": [
    "### Set parameters ###\n",
    "# If true, and spike sorting output is present, it's deleted and resorted\n",
    "recompute_sorting = False\n",
    "recompute_curation = False\n",
    "# If true, filtered data and sorted outputs are saved in a format that it's easy to retrieve (.pkl)\n",
    "dump_recording = True\n",
    "dump_sorting = True\n",
    "# If true, exports to Phy\n",
    "export_raw_to_phy = False\n",
    "export_curated_to_phy = True\n",
    "# If true, unit templates are plotted for all units\n",
    "plot_unit_templates = True\n",
    "plot_image = True\n",
    "### Filter params ###\n",
    "freq_min = 300\n",
    "freq_max = 5000\n",
    "### Automatic curation ###\n",
    "# If true, output is automatically curated using quality metrics (QC)\n",
    "auto_curate = True\n",
    "# Thresholds for automatic curations (if any is None, that autocuration is skipped\n",
    "# ISI-violation ratio (greater values are removed)\n",
    "isi_viol_thresh = 0.5\n",
    "# firing rate (smaller values are removed)\n",
    "fr_thresh = 0.05\n",
    "# signal-to-noise ratio (smaller values are removed)\n",
    "snr_thresh = 5\n",
    "### Other processing params - used for all sorters ###\n",
    "# number of jobs to use\n",
    "n_jobs = 16\n",
    "# total RAM to use\n",
    "total_memory = \"5000M\"\n",
    "# chunk size\n",
    "chunk_size = 10000\n",
    "# Number of spikes per unit to compute templates (None-> all spikes are used)\n",
    "max_spikes_per_unit = None\n",
    "# Number of channels to compute center of mass\n",
    "num_channels_for_com = 30"
   ]
  },
  {
   "cell_type": "code",
   "execution_count": 10,
   "metadata": {
    "pycharm": {
     "name": "#%%\n"
    }
   },
   "outputs": [
    {
     "name": "stdout",
     "output_type": "stream",
     "text": [
      "Trying to load Maxwell recording\n",
      "DURATION: 900.55 s -- NUM. CHANNELS: 1020\n",
      "20000.0\n",
      "Loading saved recording\n",
      "SORTING WITH kilosort2\n",
      "\n",
      "RUNNING SHELL SCRIPT: /tmp/tmp_shellscript816yrqs2/script.sh\n",
      "RUNNING SHELL SCRIPT: /tmp/tmp_shellscriptyo1ksmip/script.sh\n",
      "RUNNING SHELL SCRIPT: /tmp/tmp_shellscriptkgo1b_jr/script.sh\n",
      "RUNNING SHELL SCRIPT: /net/bs-filesvr02/export/group/hierlemann/intermediate_data/Mea1k/phornauer/si_test/sorted/run_kilosort2.sh\n",
      "\n",
      "\n",
      "                            < M A T L A B (R) >\n",
      "\n",
      "                  Copyright 1984-2021 The MathWorks, Inc.\n",
      "\n",
      "                  R2021a (9.10.0.1602886) 64-bit (glnxa64)\n",
      "\n",
      "                             February 17, 2021\n",
      "\n",
      "\n",
      "\n",
      " \n",
      "\n",
      "To get started, type doc.\n",
      "\n",
      "For product information, visit www.mathworks.com.\n",
      "\n",
      " \n",
      "\n",
      "Time   2s. Determining good channels.. \n",
      "\n",
      "found 1454265 threshold crossings in 301.76 seconds of data \n",
      "\n",
      "found 5 bad channels \n",
      "\n",
      "Time 289s. Computing whitening matrix.. \n",
      "\n",
      "Getting channel whitening matrix... \n",
      "\n",
      "Channel-whitening matrix computed. \n",
      "\n",
      "Time 322s. Loading raw data and applying filters... \n",
      "\n",
      "Time 1093s. Finished preprocessing 275 batches. \n",
      "\n",
      "random seed for clusterSingleBatches: 1\n",
      "\n",
      "Obtained 7 PC waveforms in 9.72 seconds \n",
      "\n",
      "time 6.75, pre clustered 1 / 275 batches \n",
      "\n",
      "time 2.75, compared 1 / 275 batches \n",
      "\n",
      "time 111.60, Re-ordered 275 batches. \n",
      "\n",
      "Time 134s. Optimizing templates ...\n",
      "\n",
      "1 / 276 batches, 193 units, nspks: 90.2616, mu: 10.0000, nst0: 570, merges: 0.1000, 0.1000 \n",
      "\n",
      "101 / 276 batches, 1597 units, nspks: 20209.0651, mu: 16.5389, nst0: 25191, merges: 459.8850, 2.0381 \n",
      "\n",
      "201 / 276 batches, 1540 units, nspks: 22410.9406, mu: 16.2711, nst0: 17380, merges: 542.4294, 1.3122 \n",
      "\n",
      "Finished learning templates \n",
      "\n",
      "Time 1223s. Optimizing templates ...\n",
      "\n",
      "1224.82 sec, 1 / 138 batches, 1584 units, nspks: 215.0000, mu: 17.9928, nst0: 6548 \n",
      "\n",
      "1483.79 sec, 101 / 138 batches, 1584 units, nspks: 20618.9976, mu: 17.0262, nst0: 25004 \n",
      "\n",
      "Elapsed time is 1625.341668 seconds.\n",
      "\n",
      "Time 1646s. Optimizing templates ...\n",
      "\n",
      "1648.86 sec, 1 / 137 batches, 1584 units, nspks: 215.2000, mu: 17.9928, nst0: 6519 \n",
      "\n",
      "1846.41 sec, 101 / 137 batches, 1584 units, nspks: 826.4629, mu: 17.9624, nst0: 1066 \n",
      "\n",
      "Elapsed time is 1905.988907 seconds.\n",
      "\n",
      "Number of spikes before applying cutoff: 2824392\n",
      "\n",
      "Finished compressing time-varying templates \n",
      "\n",
      "initialized spike counts\n",
      "\n",
      "merged 615 into 616 \n",
      "\n",
      "merged 1174 into 1173 \n",
      "\n",
      "merged 1050 into 1034 \n",
      "\n",
      "merged 483 into 485 \n",
      "\n",
      "merged 864 into 866 \n",
      "\n",
      "merged 950 into 951 \n",
      "\n",
      "merged 1175 into 1176 \n",
      "\n",
      "merged 1227 into 1228 \n",
      "\n",
      "merged 484 into 485 \n",
      "\n",
      "merged 1316 into 1315 \n",
      "\n",
      "merged 1572 into 1573 \n",
      "\n",
      "merged 367 into 365 \n",
      "\n",
      "merged 461 into 460 \n",
      "\n",
      "merged 123 into 122 \n",
      "\n",
      "merged 244 into 459 \n",
      "\n",
      "merged 449 into 448 \n",
      "\n",
      "merged 1110 into 42 \n",
      "\n",
      "merged 482 into 480 \n",
      "\n",
      "merged 1581 into 1580 \n",
      "\n",
      "merged 366 into 368 \n",
      "\n",
      "merged 649 into 650 \n",
      "\n",
      "merged 118 into 117 \n",
      "\n",
      "merged 1229 into 1228 \n",
      "\n",
      "merged 750 into 749 \n",
      "\n",
      "merged 802 into 803 \n",
      "\n",
      "merged 694 into 693 \n",
      "\n",
      "merged 190 into 192 \n",
      "\n",
      "merged 1115 into 1113 \n",
      "\n",
      "merged 1060 into 1049 \n",
      "\n",
      "merged 447 into 448 \n",
      "\n",
      "merged 1322 into 1321 \n",
      "\n",
      "merged 322 into 321 \n",
      "\n",
      "merged 37 into 36 \n",
      "\n",
      "merged 607 into 608 \n",
      "\n",
      "merged 195 into 192 \n",
      "\n",
      "merged 169 into 236 \n",
      "\n",
      "merged 536 into 535 \n",
      "\n",
      "merged 315 into 314 \n",
      "\n",
      "merged 599 into 600 \n",
      "\n",
      "merged 736 into 737 \n",
      "\n",
      "merged 418 into 84 \n",
      "\n",
      "merged 480 into 485 \n",
      "\n",
      "merged 1401 into 1400 \n",
      "\n",
      "merged 57 into 55 \n",
      "\n",
      "merged 831 into 830 \n",
      "\n",
      "merged 431 into 432 \n",
      "\n",
      "merged 809 into 808 \n",
      "\n",
      "merged 125 into 121 \n",
      "\n",
      "merged 728 into 730 \n",
      "\n",
      "merged 86 into 87 \n",
      "\n",
      "merged 1530 into 1529 \n",
      "\n",
      "merged 38 into 36 \n",
      "\n",
      "merged 1539 into 1439 \n",
      "\n",
      "merged 677 into 420 \n",
      "\n",
      "merged 764 into 824 \n",
      "\n",
      "merged 1499 into 1524 \n",
      "\n",
      "merged 562 into 563 \n",
      "\n",
      "merged 960 into 840 \n",
      "\n",
      "merged 1198 into 1196 \n",
      "\n",
      "merged 636 into 637 \n",
      "\n",
      "merged 344 into 345 \n",
      "\n",
      "merged 1377 into 1378 \n",
      "\n",
      "merged 836 into 835 \n",
      "\n",
      "merged 116 into 115 \n",
      "\n",
      "merged 1045 into 1046 \n",
      "\n",
      "merged 1565 into 1418 \n",
      "\n",
      "merged 885 into 884 \n",
      "\n",
      "merged 1150 into 1151 \n",
      "\n",
      "merged 903 into 904 \n",
      "\n",
      "merged 1183 into 1184 \n",
      "\n",
      "merged 1506 into 1509 \n",
      "\n",
      "merged 95 into 408 \n",
      "\n",
      "merged 288 into 287 \n",
      "\n",
      "merged 127 into 129 \n",
      "\n",
      "merged 856 into 149 \n",
      "\n",
      "merged 548 into 549 \n",
      "\n",
      "merged 1122 into 1123 \n",
      "\n",
      "merged 375 into 377 \n",
      "\n",
      "merged 925 into 924 \n",
      "\n",
      "merged 1236 into 1044 \n",
      "\n",
      "merged 655 into 161 \n",
      "\n",
      "merged 1047 into 1041 \n",
      "\n",
      "merged 360 into 362 \n",
      "\n",
      "merged 879 into 141 \n",
      "\n",
      "merged 1068 into 232 \n",
      "\n",
      "merged 1276 into 1522 \n",
      "\n",
      "merged 1130 into 1129 \n",
      "\n",
      "merged 1428 into 1405 \n",
      "\n",
      "merged 1375 into 1271 \n",
      "\n",
      "merged 1542 into 1543 \n",
      "\n",
      "merged 533 into 534 \n",
      "\n",
      "merged 1190 into 1117 \n",
      "\n",
      "merged 1390 into 1495 \n",
      "\n",
      "merged 1498 into 1394 \n",
      "\n",
      "merged 1363 into 1360 \n",
      "\n",
      "merged 340 into 741 \n",
      "\n",
      "merged 1022 into 745 \n",
      "\n",
      "merged 1257 into 1271 \n",
      "\n",
      "merged 1487 into 1465 \n",
      "\n",
      "merged 827 into 1019 \n",
      "\n",
      "merged 1535 into 1508 \n",
      "\n",
      "merged 161 into 654 \n",
      "\n",
      "merged 959 into 778 \n",
      "\n",
      "merged 361 into 424 \n",
      "\n",
      "merged 47 into 48 \n",
      "\n",
      "merged 1205 into 1206 \n",
      "\n",
      "merged 557 into 976 \n",
      "\n",
      "merged 532 into 643 \n",
      "\n",
      "merged 717 into 896 \n",
      "\n",
      "merged 1540 into 1537 \n",
      "\n",
      "merged 365 into 368 \n",
      "\n",
      "merged 882 into 881 \n",
      "\n",
      "merged 1220 into 1288 \n",
      "\n",
      "merged 1163 into 1579 \n",
      "\n",
      "merged 527 into 528 \n",
      "\n",
      "merged 1556 into 1533 \n",
      "\n",
      "merged 1352 into 1297 \n",
      "\n",
      "merged 1505 into 1462 \n",
      "\n",
      "merged 1495 into 1475 \n",
      "\n",
      "merged 514 into 513 \n",
      "\n",
      "merged 1523 into 1509 \n",
      "\n",
      "merged 552 into 1151 \n",
      "\n",
      "merged 989 into 1126 \n",
      "\n",
      "merged 1274 into 1334 \n",
      "\n",
      "Found 0 splits, checked 1/1584 clusters, nccg 1 \n",
      "\n",
      "Found 7 splits, checked 101/1591 clusters, nccg 60 \n",
      "\n",
      "Found 14 splits, checked 201/1598 clusters, nccg 115 \n",
      "\n",
      "Found 26 splits, checked 301/1610 clusters, nccg 176 \n",
      "\n",
      "Found 34 splits, checked 401/1618 clusters, nccg 230 \n",
      "\n",
      "Found 37 splits, checked 501/1621 clusters, nccg 285 \n",
      "\n",
      "Found 45 splits, checked 601/1629 clusters, nccg 334 \n",
      "\n",
      "Found 57 splits, checked 701/1641 clusters, nccg 385 \n",
      "\n",
      "Found 66 splits, checked 801/1650 clusters, nccg 446 \n",
      "\n",
      "Found 73 splits, checked 901/1657 clusters, nccg 496 \n",
      "\n",
      "Found 83 splits, checked 1001/1667 clusters, nccg 549 \n",
      "\n",
      "Found 87 splits, checked 1101/1671 clusters, nccg 607 \n",
      "\n",
      "Found 94 splits, checked 1201/1678 clusters, nccg 653 \n",
      "\n",
      "Found 95 splits, checked 1201/1679 clusters, nccg 653 \n",
      "\n",
      "Found 100 splits, checked 1301/1684 clusters, nccg 698 \n",
      "\n",
      "Found 101 splits, checked 1301/1685 clusters, nccg 698 \n",
      "\n",
      "Found 116 splits, checked 1401/1700 clusters, nccg 746 \n",
      "\n",
      "Found 117 splits, checked 1401/1701 clusters, nccg 746 \n",
      "\n",
      "Found 126 splits, checked 1501/1710 clusters, nccg 790 \n",
      "\n",
      "Found 146 splits, checked 1601/1730 clusters, nccg 833 \n",
      "\n",
      "Found 147 splits, checked 1601/1731 clusters, nccg 833 \n",
      "\n",
      "Found 154 splits, checked 1701/1738 clusters, nccg 871 \n",
      "\n",
      "Finished splitting. Found 158 splits, checked 1742/1742 clusters, nccg 876 \n",
      "\n",
      "Found 0 splits, checked 1/1742 clusters, nccg 1 \n",
      "\n",
      "Found 1 splits, checked 101/1743 clusters, nccg 67 \n",
      "\n",
      "Found 3 splits, checked 201/1745 clusters, nccg 120 \n",
      "\n",
      "Found 5 splits, checked 301/1747 clusters, nccg 187 \n",
      "\n",
      "Found 7 splits, checked 401/1749 clusters, nccg 242 \n",
      "\n",
      "Found 9 splits, checked 501/1751 clusters, nccg 301 \n",
      "\n",
      "Found 10 splits, checked 601/1752 clusters, nccg 347 \n",
      "\n",
      "Found 11 splits, checked 701/1753 clusters, nccg 406 \n",
      "\n",
      "Found 12 splits, checked 801/1754 clusters, nccg 469 \n",
      "\n",
      "Found 15 splits, checked 901/1757 clusters, nccg 527 \n",
      "\n",
      "Found 18 splits, checked 1001/1760 clusters, nccg 586 \n",
      "\n",
      "Found 21 splits, checked 1101/1763 clusters, nccg 647 \n",
      "\n",
      "Found 26 splits, checked 1201/1768 clusters, nccg 701 \n",
      "\n",
      "Found 28 splits, checked 1301/1770 clusters, nccg 747 \n",
      "\n",
      "Found 31 splits, checked 1401/1773 clusters, nccg 801 \n",
      "\n",
      "Found 34 splits, checked 1501/1776 clusters, nccg 848 \n",
      "\n",
      "Found 37 splits, checked 1601/1779 clusters, nccg 892 \n",
      "\n",
      "Found 39 splits, checked 1701/1781 clusters, nccg 933 \n",
      "\n",
      "Finished splitting. Found 41 splits, checked 1783/1783 clusters, nccg 948 \n",
      "\n",
      "Removing 357406 spikes from rez structure.\n",
      "\n",
      "found 993 good units \n",
      "\n",
      "Saving results to Phy  \n",
      "\n",
      "kilosort2 run time 4579.36s\n",
      "\n",
      "\n",
      "Spike sorting elapsed time 4586.872852325439 s\n"
     ]
    }
   ],
   "source": [
    "output_folder = Path(os.path.join(save_path, 'sorted'))\n",
    "cache_folder = Path(os.path.join(save_path, 'cache'))\n",
    "figures_folder = Path(os.path.join(save_path, 'figures'))\n",
    "output_folder.mkdir(parents=True, exist_ok=True)\n",
    "cache_folder.mkdir(parents=True, exist_ok=True)\n",
    "figures_folder.mkdir(parents=True, exist_ok=True)\n",
    "tmp_folder = cache_folder / 'tmp' / sorter\n",
    "tmp_folder.mkdir(parents=True, exist_ok=True)\n",
    "# Load recording\n",
    "try:\n",
    "    print(\"Trying to load Maxwell recording\")\n",
    "    rec = si.MaxwellRecordingExtractor(rec_path)\n",
    "except:\n",
    "    raise Exception(f\"Could not open the provided file: {rec_path} with the MaxwellRecordingExtractor\")\n",
    "\n",
    "print(f\"DURATION: {rec.get_num_frames() / rec.get_sampling_frequency()} s -- \"\n",
    "      f\"NUM. CHANNELS: {rec.get_num_channels()}\")\n",
    "print(rec.get_sampling_frequency())\n",
    "\n",
    "### Filter and dumping\n",
    "if (cache_folder / 'recording').is_dir():\n",
    "    print(\"Loading saved recording\")\n",
    "    rec_cache = si.load_extractor(cache_folder / 'recording')\n",
    "else:\n",
    "    print('FILTERING\\n')\n",
    "    rec_f = si.bandpass_filter(rec, freq_min=freq_min, freq_max=freq_max)\n",
    "\n",
    "    if dump_recording:\n",
    "        start = time.time()\n",
    "        rec_cache = rec_f.save(folder=cache_folder / \"recording\", n_jobs=n_jobs, chunk_size=chunk_size,\n",
    "                               progress_bar=True)\n",
    "        stop = time.time()\n",
    "        print(f'Elapsed saving time {np.round(stop - start, 2)}\\n')\n",
    "        print(f\"Filtered recording saved to {cache_folder / 'recording'}\\n\")\n",
    "    else:\n",
    "        rec_cache = rec_f\n",
    "fs = rec_cache.get_sampling_frequency()\n",
    "\n",
    "### Spike sorting\n",
    "if recompute_sorting and output_folder.is_dir():\n",
    "    shutil.rmtree(output_folder)\n",
    "try:\n",
    "    if not (cache_folder / 'sorting_raw').is_dir():\n",
    "        print(f'SORTING WITH {sorter}\\n')\n",
    "        t_start_sort = time.time()\n",
    "        sorting = si.run_sorter(sorter, rec_cache, output_folder=output_folder, verbose=True,\n",
    "                                **sorter_params)\n",
    "        print(f\"\\n\\nSpike sorting elapsed time {time.time() - t_start_sort} s\")\n",
    "    else:\n",
    "        print('Skipping', rec_path, ' since already sorted')\n",
    "        sorting = si.load_extractor(cache_folder / 'sorting_raw')\n",
    "except Exception as e:\n",
    "    print(f\"{sorter} failed on recording {rec_path}\\n\\nError: {e}\")\n",
    "\n",
    "if export_raw_to_phy and not (cache_folder / \"phy_raw\").is_dir():\n",
    "    we_raw = si.extract_waveforms(rec_cache, sorting, folder=cache_folder / \"waveforms_raw\", load_if_exists=True,\n",
    "                                  n_jobs=n_jobs, total_memory=total_memory, progress_bar=True)\n",
    "    print(\"Exporting raw sorting output to Phy\")\n",
    "    si.export_to_phy(we_raw, cache_folder / \"phy_raw\", n_jobs=n_jobs, total_memory=total_memory,\n",
    "                     progress_bar=True)"
   ]
  },
  {
   "cell_type": "code",
   "execution_count": null,
   "metadata": {
    "pycharm": {
     "is_executing": true,
     "name": "#%%\n"
    }
   },
   "outputs": [
    {
     "name": "stderr",
     "output_type": "stream",
     "text": [
      "extract waveforms memmap:  60%|████████████████████████████████████████████████████████████▏                                       | 71/118 [2:11:14<1:26:52, 110.91s/it]\n"
     ]
    }
   ],
   "source": [
    "we_raw = si.extract_waveforms(rec_cache, sorting, folder=cache_folder / \"waveforms_raw\", load_if_exists=True,\n",
    "                              n_jobs=n_jobs, total_memory=total_memory, progress_bar=True)\n",
    "print(\"Exporting raw sorting output to Phy\")\n",
    "si.export_to_phy(we_raw, cache_folder / \"phy_raw\", n_jobs=n_jobs, total_memory=total_memory,\n",
    "                 progress_bar=True)"
   ]
  },
  {
   "cell_type": "code",
   "execution_count": 11,
   "metadata": {
    "pycharm": {
     "name": "#%%\n"
    }
   },
   "outputs": [
    {
     "data": {
      "text/plain": [
       "False"
      ]
     },
     "execution_count": 11,
     "metadata": {},
     "output_type": "execute_result"
    }
   ],
   "source": [
    "export_raw_to_phy and not (cache_folder / \"phy_raw\").is_dir()"
   ]
  },
  {
   "cell_type": "code",
   "execution_count": 18,
   "metadata": {
    "pycharm": {
     "name": "#%%\n"
    }
   },
   "outputs": [],
   "source": [
    "snippet = rec_cache.get_traces(segment_index=None,start_frame=0,end_frame=20000)"
   ]
  },
  {
   "cell_type": "code",
   "execution_count": 13,
   "metadata": {
    "pycharm": {
     "name": "#%%\n"
    }
   },
   "outputs": [],
   "source": [
    "output_folder = Path(os.path.join(save_path, 'sorted'))\n",
    "cache_folder = Path(os.path.join(save_path, 'cache'))\n",
    "figures_folder = Path(os.path.join(save_path, 'figures'))\n",
    "rec_cache = si.load_extractor(cache_folder / 'recording')\n"
   ]
  },
  {
   "cell_type": "code",
   "execution_count": 16,
   "metadata": {
    "pycharm": {
     "name": "#%%\n"
    }
   },
   "outputs": [
    {
     "data": {
      "text/plain": [
       "True"
      ]
     },
     "execution_count": 16,
     "metadata": {},
     "output_type": "execute_result"
    }
   ],
   "source": [
    "rec_cache.is_filtered()"
   ]
  },
  {
   "cell_type": "code",
   "execution_count": 19,
   "metadata": {
    "pycharm": {
     "name": "#%%\n"
    }
   },
   "outputs": [
    {
     "data": {
      "image/png": "[encoded data removed]",
      "text/plain": [
       "<Figure size 432x288 with 1 Axes>"
      ]
     },
     "metadata": {
      "needs_background": "light"
     },
     "output_type": "display_data"
    }
   ],
   "source": [
    "plt.plot(snippet);"
   ]
  }
 ],
 "metadata": {
  "kernelspec": {
   "display_name": "Python 3 (ipykernel)",
   "language": "python",
   "name": "python3"
  },
  "language_info": {
   "codemirror_mode": {
    "name": "ipython",
    "version": 3
   },
   "file_extension": ".py",
   "mimetype": "text/x-python",
   "name": "python",
   "nbconvert_exporter": "python",
   "pygments_lexer": "ipython3",
   "version": "3.9.15"
  }
 },
 "nbformat": 4,
 "nbformat_minor": 1
}
