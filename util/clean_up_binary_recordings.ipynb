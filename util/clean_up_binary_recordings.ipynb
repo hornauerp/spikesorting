{
 "cells": [
  {
   "cell_type": "code",
   "execution_count": 1,
   "id": "380e0286-f86d-4974-9f8a-11eaf17dfd14",
   "metadata": {},
   "outputs": [],
   "source": [
    "import os"
   ]
  },
  {
   "cell_type": "code",
   "execution_count": 6,
   "id": "7922e10c-4937-44cf-8119-05e3f7fcc609",
   "metadata": {},
   "outputs": [],
   "source": [
    "save_root = '/net/bs-filesvr02/export/group/hierlemann/intermediate_data/Mea1k/phornauer/'\n",
    "sorting_files = [root\n",
    "                 for root, dirs, files in os.walk(save_root)\n",
    "                 for name in files\n",
    "                 if name == \"recording.dat\"]"
   ]
  },
  {
   "cell_type": "code",
   "execution_count": 7,
   "id": "996927a9-5928-4bb0-9c7d-93873e7a6629",
   "metadata": {},
   "outputs": [
    {
     "data": {
      "text/plain": [
       "[]"
      ]
     },
     "execution_count": 7,
     "metadata": {},
     "output_type": "execute_result"
    }
   ],
   "source": [
    "sorting_files"
   ]
  },
  {
   "cell_type": "code",
   "execution_count": 4,
   "id": "0e0f842c-625f-46f0-bbe6-829b34cbcb55",
   "metadata": {},
   "outputs": [
    {
     "data": {
      "text/plain": [
       "234"
      ]
     },
     "execution_count": 4,
     "metadata": {},
     "output_type": "execute_result"
    }
   ],
   "source": [
    "str_pattern = 'SCR_rebuttal_week'\n",
    "del_files = [file for file in sorting_files if str_pattern in file ]\n",
    "len(del_files)"
   ]
  },
  {
   "cell_type": "code",
   "execution_count": 5,
   "id": "1518b33b-8060-458c-afaa-3fb034481b7a",
   "metadata": {},
   "outputs": [],
   "source": [
    "for path in del_files:\n",
    "    rm_path = os.path.join(path,'recording.dat')\n",
    "    os.remove(rm_path)"
   ]
  }
 ],
 "metadata": {
  "kernelspec": {
   "display_name": "Python 3 (ipykernel)",
   "language": "python",
   "name": "python3"
  },
  "language_info": {
   "codemirror_mode": {
    "name": "ipython",
    "version": 3
   },
   "file_extension": ".py",
   "mimetype": "text/x-python",
   "name": "python",
   "nbconvert_exporter": "python",
   "pygments_lexer": "ipython3",
   "version": "3.9.15"
  }
 },
 "nbformat": 4,
 "nbformat_minor": 5
}
