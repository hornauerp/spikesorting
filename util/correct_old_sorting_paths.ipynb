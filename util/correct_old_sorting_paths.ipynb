{
 "cells": [
  {
   "cell_type": "code",
   "execution_count": null,
   "id": "a26c3609-ab0c-43dc-bf2b-5c3176e707da",
   "metadata": {},
   "outputs": [],
   "source": [
    "import os\n",
    "import numpy as np\n",
    "from glob import glob\n",
    "import shutil"
   ]
  },
  {
   "cell_type": "code",
   "execution_count": null,
   "id": "47982954-2705-4c9e-bc40-06341ac18c1d",
   "metadata": {},
   "outputs": [],
   "source": [
    "root_path = \"/net/bs-filesvr02/export/group/hierlemann/intermediate_data/Mea1k/phornauer/\" # Fixed path root that all recordings have in common\n",
    "path_pattern = [\"SCR_rebuttal_week_*\", \"2*\", \"M0*\",\"AxonTracking\", \"well*\",\"s*\"] # Variable part of the path, where we collect all possible combinations using wildcards (*). It is still recommended to be as specific as possible to avoid ambiguities."
   ]
  },
  {
   "cell_type": "code",
   "execution_count": null,
   "id": "5e84bbe4-15c8-46ca-b64a-b82798344308",
   "metadata": {},
   "outputs": [],
   "source": [
    "full_path = os.path.join(root_path, *path_pattern)\n",
    "path_list = glob(full_path)\n",
    "print(f'Found {len(path_list)} recording paths matching the description:\\n{full_path}\\n')"
   ]
  },
  {
   "cell_type": "code",
   "execution_count": null,
   "id": "c114935b-14c4-46f2-a77c-c620b773147f",
   "metadata": {},
   "outputs": [],
   "source": [
    "save_root = path_list[0]\n",
    "sorting_files = [root\n",
    "                 for root, dirs, files in os.walk(save_root)\n",
    "                 for name in files\n",
    "                 if name == \"templates.npy\"]"
   ]
  },
  {
   "cell_type": "code",
   "execution_count": null,
   "id": "3e6d8f53-13ed-404b-bd0b-1e6290375feb",
   "metadata": {},
   "outputs": [],
   "source": [
    "path_parts = sorting_files[0].split('/')\n",
    "well_part = [p.startswith('well') for p in path_parts]\n",
    "move_path = os.path.join('/', *path_parts[0:np.where(well_part)[0][0] + 1])\n",
    "move_path"
   ]
  },
  {
   "cell_type": "code",
   "execution_count": null,
   "id": "790b6ca8-169a-4df0-8c6e-67a652096724",
   "metadata": {},
   "outputs": [],
   "source": [
    "for save_root in path_list:\n",
    "    sorting_files = [root\n",
    "                     for root, dirs, files in os.walk(save_root)\n",
    "                     for name in files\n",
    "                     if name == \"templates.npy\"]\n",
    "    if not sorting_files:\n",
    "        continue\n",
    "    path_parts = sorting_files[0].split('/')\n",
    "    well_part = [p.startswith('well') for p in path_parts]\n",
    "    move_path = os.path.join('/', *path_parts[0:np.where(well_part)[0][0] + 1])\n",
    "\n",
    "    try:\n",
    "        shutil.move(sorting_files[0],move_path)\n",
    "    except Exception as e:\n",
    "        print(e)\n",
    "        "
   ]
  }
 ],
 "metadata": {
  "kernelspec": {
   "display_name": "Python 3 (ipykernel)",
   "language": "python",
   "name": "python3"
  },
  "language_info": {
   "codemirror_mode": {
    "name": "ipython",
    "version": 3
   },
   "file_extension": ".py",
   "mimetype": "text/x-python",
   "name": "python",
   "nbconvert_exporter": "python",
   "pygments_lexer": "ipython3",
   "version": "3.9.15"
  }
 },
 "nbformat": 4,
 "nbformat_minor": 5
}
