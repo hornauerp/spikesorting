{
 "cells": [
  {
   "cell_type": "code",
   "execution_count": 1,
   "id": "0025dc46",
   "metadata": {},
   "outputs": [],
   "source": [
    "import os, time, shutil\n",
    "from pathlib import Path\n",
    "from glob import glob\n",
    "import numpy as np\n",
    "import spikeinterface.full as si"
   ]
  },
  {
   "cell_type": "code",
   "execution_count": 2,
   "id": "93251bfe",
   "metadata": {},
   "outputs": [],
   "source": [
    "def clean_sorting(rec, save_root, stream_name):\n",
    "    \n",
    "    # Creates output folder, sorts and clears large temporary files\n",
    "    save_path = os.path.join(save_root,stream_name)\n",
    "    output_folder = Path(os.path.join(save_path, 'sorted'))\n",
    "    \n",
    "    if not os.path.exists(os.path.join(output_folder,'amplitudes.npy')):\n",
    "        output_folder.mkdir(parents=True, exist_ok=True)\n",
    "        raw_file = os.path.join(output_folder,'recording.dat')\n",
    "        wh_file = os.path.join(output_folder, 'temp_wh.dat')\n",
    "        \n",
    "        print(f\"DURATION: {rec.get_num_frames() / rec.get_sampling_frequency()} s -- \"\n",
    "                f\"NUM. CHANNELS: {rec.get_num_channels()}\")\n",
    "        \n",
    "        try:\n",
    "            t_start_sort = time.time()\n",
    "            sorting = si.run_sorter(sorter, rec, output_folder=output_folder, verbose=True,\n",
    "                                    **sorter_params)\n",
    "            print(f\"\\n\\nSpike sorting elapsed time {time.time() - t_start_sort} s\")\n",
    "            \n",
    "            #Making sure we clean up the temporary .npy files\n",
    "            if os.path.exists(wh_file):\n",
    "                os.remove(wh_file)\n",
    "            if os.path.exists(raw_file):\n",
    "                os.remove(raw_file)\n",
    "        except Exception:\n",
    "            if os.path.exists(wh_file):\n",
    "                os.remove(wh_file)\n",
    "            if os.path.exists(raw_file):\n",
    "                os.remove(raw_file)"
   ]
  },
  {
   "cell_type": "code",
   "execution_count": 3,
   "id": "5bdc55bb",
   "metadata": {},
   "outputs": [
    {
     "name": "stdout",
     "output_type": "stream",
     "text": [
      "Setting KILOSORT2_5_PATH environment variable for subprocess calls to: /home/phornauer/Git/Kilosort_2020b\n"
     ]
    }
   ],
   "source": [
    "sorter = 'kilosort2_5'\n",
    "si.Kilosort2_5Sorter.set_kilosort2_5_path('/home/phornauer/Git/Kilosort_2020b')\n",
    "sorter_params = si.get_default_sorter_params(si.Kilosort2_5Sorter)\n",
    "sorter_params['n_jobs'] = -1\n",
    "sorter_params['detect_threshold'] = 5.5\n",
    "sorter_params['minFR'] = 0.01\n",
    "sorter_params['minfr_goodchannels'] = 0.01\n",
    "sorter_params['keep_good_only'] = False\n",
    "sorter_params['do_correction'] = False"
   ]
  },
  {
   "cell_type": "code",
   "execution_count": 21,
   "id": "dddbcf34",
   "metadata": {},
   "outputs": [],
   "source": [
    "N_recordings = 3 # Number of recordings per chip/well that need to exist\n",
    "parent_path = '/net/bs-filesvr02/export/group/hierlemann/recordings/Mea1k/phornauer/'\n",
    "recording_date = '2301*'\n",
    "project_name = 'Quinpirole'\n",
    "chip_id = '*'\n",
    "\n",
    "assay_name = 'Network'\n",
    "assay_id = '00*'\n",
    "file_name = 'data.raw.h5'\n",
    "\n",
    "path_parts = [parent_path, recording_date, project_name, chip_id]\n",
    "path_pattern = os.path.join(*path_parts)\n",
    "path_list  = glob(path_pattern)"
   ]
  },
  {
   "cell_type": "code",
   "execution_count": 23,
   "id": "458d1787",
   "metadata": {},
   "outputs": [
    {
     "data": {
      "text/plain": [
       "['/net/bs-filesvr02/export/group/hierlemann/recordings/Mea1k/phornauer/230119/Quinpirole/M05579',\n",
       " '/net/bs-filesvr02/export/group/hierlemann/recordings/Mea1k/phornauer/230119/Quinpirole/M05854',\n",
       " '/net/bs-filesvr02/export/group/hierlemann/recordings/Mea1k/phornauer/230119/Quinpirole/M05706',\n",
       " '/net/bs-filesvr02/export/group/hierlemann/recordings/Mea1k/phornauer/230119/Quinpirole/M04258',\n",
       " '/net/bs-filesvr02/export/group/hierlemann/recordings/Mea1k/phornauer/230119/Quinpirole/M04163',\n",
       " '/net/bs-filesvr02/export/group/hierlemann/recordings/Mea1k/phornauer/230118/Quinpirole/M05856',\n",
       " '/net/bs-filesvr02/export/group/hierlemann/recordings/Mea1k/phornauer/230118/Quinpirole/M05867',\n",
       " '/net/bs-filesvr02/export/group/hierlemann/recordings/Mea1k/phornauer/230118/Quinpirole/M04258',\n",
       " '/net/bs-filesvr02/export/group/hierlemann/recordings/Mea1k/phornauer/230118/Quinpirole/M04284',\n",
       " '/net/bs-filesvr02/export/group/hierlemann/recordings/Mea1k/phornauer/230118/Quinpirole/M05865',\n",
       " '/net/bs-filesvr02/export/group/hierlemann/recordings/Mea1k/phornauer/230118/Quinpirole/M04694']"
      ]
     },
     "execution_count": 23,
     "metadata": {},
     "output_type": "execute_result"
    }
   ],
   "source": [
    "path_list"
   ]
  },
  {
   "cell_type": "code",
   "execution_count": 24,
   "id": "c88cfe54",
   "metadata": {},
   "outputs": [],
   "source": [
    "for chip_path in path_list: # Iterate over all chip IDs\n",
    "    \n",
    "    chip_pattern = os.path.join(chip_path, assay_name, assay_id, file_name)\n",
    "    recording_path_list = glob(chip_pattern)\n",
    "    recording_path_list.sort() # Make sure assay IDs are in the correct order\n",
    "    \n",
    "    for well_id in range(6): # Iterate over all wells\n",
    "        stream_name = 'well00' + str(well_id)\n",
    "        \n",
    "        path_parts = chip_path.split('/')\n",
    "        path_parts[0] = '/'\n",
    "        path_parts[6] = 'intermediate_data'\n",
    "        save_root = os.path.join(*path_parts[0:12])\n",
    "        \n",
    "        well_recording_list = []\n",
    "        \n",
    "        for rec_path in recording_path_list: #Iterate over recordings to be concatenated \n",
    "            \n",
    "            try: # If not all wells were recorded, should be the only cause for an error\n",
    "                rec = si.MaxwellRecordingExtractor(rec_path,stream_name=stream_name)\n",
    "                well_recording_list.append(rec)\n",
    "            except Exception:\n",
    "                continue\n",
    "        \n",
    "        if len(well_recording_list) >= N_recordings:\n",
    "            multirecording = si.concatenate_recordings(well_recording_list[:3])\n",
    "            clean_sorting(multirecording, save_root, stream_name)\n",
    "            "
   ]
  },
  {
   "cell_type": "code",
   "execution_count": 9,
   "id": "7b14b9e1",
   "metadata": {},
   "outputs": [],
   "source": [
    "chip_path = path_list[0]\n",
    "chip_pattern = os.path.join(chip_path, assay_name, assay_id, file_name)\n",
    "recording_path_list = glob(chip_pattern)\n",
    "recording_path_list.sort() # Make sure assay IDs are in the correct order"
   ]
  },
  {
   "cell_type": "code",
   "execution_count": 13,
   "id": "ebfdbfef",
   "metadata": {},
   "outputs": [],
   "source": [
    "well_id = 0\n",
    "stream_name = 'well00' + str(well_id)\n",
    "        \n",
    "path_parts = chip_path.split('/')\n",
    "path_parts[0] = '/'\n",
    "path_parts[6] = 'intermediate_data'\n",
    "save_root = os.path.join(*path_parts[0:12])\n",
    "\n",
    "well_recording_list = []\n",
    "rec_path = recording_path_list[0]"
   ]
  },
  {
   "cell_type": "code",
   "execution_count": 14,
   "id": "1fd4d20d",
   "metadata": {},
   "outputs": [
    {
     "data": {
      "text/plain": [
       "'/net/bs-filesvr02/export/group/hierlemann/intermediate_data/Mea1k/phornauer/230203/How_quinpirole/M05569'"
      ]
     },
     "execution_count": 14,
     "metadata": {},
     "output_type": "execute_result"
    }
   ],
   "source": [
    "save_root"
   ]
  }
 ],
 "metadata": {
  "kernelspec": {
   "display_name": "Python 3 (ipykernel)",
   "language": "python",
   "name": "python3"
  },
  "language_info": {
   "codemirror_mode": {
    "name": "ipython",
    "version": 3
   },
   "file_extension": ".py",
   "mimetype": "text/x-python",
   "name": "python",
   "nbconvert_exporter": "python",
   "pygments_lexer": "ipython3",
   "version": "3.9.15"
  }
 },
 "nbformat": 4,
 "nbformat_minor": 5
}
