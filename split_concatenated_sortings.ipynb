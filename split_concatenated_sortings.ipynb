{
 "cells": [
  {
   "cell_type": "code",
   "execution_count": null,
   "id": "06bc3e81-507c-4610-a899-486b5c3f0b81",
   "metadata": {},
   "outputs": [],
   "source": [
    "%load_ext autoreload\n",
    "%autoreload 2"
   ]
  },
  {
   "cell_type": "code",
   "execution_count": null,
   "id": "fff00e09-20a3-4532-8351-06118f216f94",
   "metadata": {},
   "outputs": [],
   "source": [
    "import os, time, shutil, sys\n",
    "from pprint import pprint\n",
    "import numpy as np\n",
    "\n",
    "sys.path.append(\"/home/phornauer/Git/axon_tracking/\")\n",
    "import axon_tracking.spike_sorting as ss\n",
    "import axon_tracking.template_extraction as te"
   ]
  },
  {
   "cell_type": "code",
   "execution_count": null,
   "id": "39d44f95-9306-433d-81e3-ba3be6f9c891",
   "metadata": {},
   "outputs": [],
   "source": [
    "root_path = '/net/bs-filesvr02/export/group/hierlemann/intermediate_data/Maxtwo/phornauer/Chemogenetics/First_real_test/'\n",
    "s_cutout = np.inf #Time cutout of each recording segment in [s]"
   ]
  },
  {
   "cell_type": "code",
   "execution_count": null,
   "id": "40329933-fdec-4a97-ba48-52aca6fc7b7e",
   "metadata": {},
   "outputs": [],
   "source": [
    "file_list = te.find_files(root_path)\n",
    "file_list.sort()\n",
    "pprint(file_list)"
   ]
  },
  {
   "cell_type": "code",
   "execution_count": null,
   "id": "963da45b-7b83-4602-bac0-437c606df07a",
   "metadata": {},
   "outputs": [],
   "source": [
    "for sorting_path in file_list:\n",
    "    seg_sorting, concat_rec = ss.split_concatenated_sorting(sorting_path)\n",
    "    unit_file = os.path.join(sorting_path,'sorter_output','qc_output','phy_ids.npy')\n",
    "    keep_unit_ids = np.load(unit_file) - 1 #From matlab indexing\n",
    "    \n",
    "    ss.save_split_sorting(seg_sorting,keep_unit_ids=keep_unit_ids,cutout=s_cutout)"
   ]
  }
 ],
 "metadata": {
  "kernelspec": {
   "display_name": "Python 3 (ipykernel)",
   "language": "python",
   "name": "python3"
  },
  "language_info": {
   "codemirror_mode": {
    "name": "ipython",
    "version": 3
   },
   "file_extension": ".py",
   "mimetype": "text/x-python",
   "name": "python",
   "nbconvert_exporter": "python",
   "pygments_lexer": "ipython3",
   "version": "3.11.5"
  }
 },
 "nbformat": 4,
 "nbformat_minor": 5
}
