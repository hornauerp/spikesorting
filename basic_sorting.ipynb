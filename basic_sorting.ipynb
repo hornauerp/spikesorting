{
 "cells": [
  {
   "cell_type": "code",
   "execution_count": null,
   "id": "df1c5204-8fd1-4af1-8099-cdb44b14371b",
   "metadata": {},
   "outputs": [],
   "source": [
    "%load_ext autoreload\n",
    "%autoreload 2"
   ]
  },
  {
   "cell_type": "code",
   "execution_count": null,
   "id": "fe926de3-d9ee-463f-9388-a9fffe288d50",
   "metadata": {},
   "outputs": [],
   "source": [
    "import os, time, shutil, sys\n",
    "from pathlib import Path\n",
    "from glob import glob\n",
    "import numpy as np\n",
    "import spikeinterface.full as si\n",
    "import h5py\n",
    "import matplotlib.pyplot as plt\n",
    "from tqdm import tqdm\n",
    "from pprint import pprint\n",
    "\n",
    "sys.path.append(\"/home/phornauer/Git/axon_tracking/\")\n",
    "from axon_tracking import spike_sorting as ss"
   ]
  },
  {
   "cell_type": "code",
   "execution_count": null,
   "id": "ec8e006b-1a9f-4c5e-83b3-040f86f37f02",
   "metadata": {},
   "outputs": [],
   "source": [
    "sorter = 'kilosort2_5'\n",
    "si.Kilosort2_5Sorter.set_kilosort2_5_path('/home/phornauer/Git/Kilosort_2020b')\n",
    "sorter_params = si.get_default_sorter_params(si.Kilosort2_5Sorter)\n",
    "sorter_params['n_jobs'] = -1\n",
    "sorter_params['detect_threshold'] = 6\n",
    "sorter_params['minFR'] = 0.01\n",
    "sorter_params['minfr_goodchannels'] = 0.01\n",
    "sorter_params['keep_good_only'] = False\n",
    "sorter_params['do_correction'] = False\n",
    "sorter_params['NT'] = 64*1024 + 64"
   ]
  },
  {
   "cell_type": "markdown",
   "id": "7e71d7d4",
   "metadata": {},
   "source": [
    "Option 1: We only want to sort individual recordings, then we can just insert the input path"
   ]
  },
  {
   "cell_type": "code",
   "execution_count": null,
   "id": "32a33b48-998d-4e6e-b6b3-448c79a62ee0",
   "metadata": {},
   "outputs": [],
   "source": [
    "path = '/net/bs-filesvr02/export/group/hierlemann/recordings/Maxtwo/lododi/240712/M05180/Network/000178/data.raw.h5'\n",
    "h5 = h5py.File(path)\n",
    "stream_ids = list(h5['wells'].keys())\n",
    "pprint(stream_ids)"
   ]
  },
  {
   "cell_type": "markdown",
   "id": "a85e5b62",
   "metadata": {},
   "source": [
    "Optionally we can also remove specific wells that we do not want to have sorted"
   ]
  },
  {
   "cell_type": "code",
   "execution_count": null,
   "id": "313cc286",
   "metadata": {},
   "outputs": [],
   "source": [
    "stream_ids.pop(2)\n",
    "pprint(stream_ids)"
   ]
  },
  {
   "cell_type": "code",
   "execution_count": null,
   "id": "0c7b2d1c-00f2-4cb3-89b0-58b041622622",
   "metadata": {},
   "outputs": [],
   "source": [
    "save_root = '/net/bs-filesvr02/export/group/hierlemann/intermediate_data/Maxtwo/phornauer/Lorenzo/Test'\n",
    "for stream_id in tqdm(stream_ids):\n",
    "    rec = si.MaxwellRecordingExtractor(path, stream_id=stream_id)\n",
    "    ss.clean_sorting(rec, save_root, stream_id=stream_id, sorter=sorter, sorter_params=sorter_params)"
   ]
  },
  {
   "cell_type": "markdown",
   "id": "12908e82",
   "metadata": {},
   "source": [
    "Option 2: We saved recordings following a specific pattern and want to sort all of them"
   ]
  },
  {
   "cell_type": "code",
   "execution_count": 10,
   "id": "eb4f4191",
   "metadata": {},
   "outputs": [
    {
     "name": "stdout",
     "output_type": "stream",
     "text": [
      "Found 17 recording paths matching the description:\n",
      "/net/bs-filesvr02/export/group/hierlemann/intermediate_data/Maxtwo/cmartins/Recordings/ST2036/ST*/24*/T0027*/Network/0*/data.raw.h5\n",
      "\n"
     ]
    }
   ],
   "source": [
    "root_path = \"/net/bs-filesvr02/export/group/hierlemann/intermediate_data/Maxtwo/cmartins/Recordings/ST2036\" # Fixed path root that all recordings have in common\n",
    "path_pattern = [\"ST*\", \"24*\",\"T0027*\",\"Network\",\"0*\"] # Variable part of the path, where we collect all possible combinations using wildcards (*). It is still recommended to be as specific as possible to avoid ambiguities.\n",
    "file_name = \"data.raw.h5\" # File name of the recording\n",
    "\n",
    "full_path = os.path.join(root_path, *path_pattern, file_name)\n",
    "path_list = glob(full_path)\n",
    "print(f'Found {len(path_list)} recording paths matching the description:\\n{full_path}\\n')"
   ]
  },
  {
   "cell_type": "markdown",
   "id": "b27b5d7e",
   "metadata": {},
   "source": [
    "Then we need to specify a logic for how to transform the recording path into the save path for the sorting:"
   ]
  },
  {
   "cell_type": "code",
   "execution_count": 8,
   "id": "8a1ebb8e",
   "metadata": {},
   "outputs": [
    {
     "name": "stdout",
     "output_type": "stream",
     "text": [
      "The save path corresponds to the pattern:\n",
      " /net/bs-filesvr02/export/group/hierlemann/intermediate_data/Maxtwo/phornauer/NEST/ST2036/ST*/240621/T0027*/\n",
      "\n"
     ]
    }
   ],
   "source": [
    "save_path_changes = {'pos': [0, 8, 9, 14, 15, 16], 'vals': ['/', 'phornauer','NEST','','','']}\n",
    "\n",
    "save_path = ss.convert_rec_path_to_save_path(full_path, save_path_changes)\n",
    "    \n",
    "print(f'The save path corresponds to the pattern:\\n {save_path}\\n')"
   ]
  },
  {
   "cell_type": "markdown",
   "id": "947fa0be",
   "metadata": {},
   "source": [
    "The sorting will automatically create folders for each well of a recording file."
   ]
  },
  {
   "cell_type": "markdown",
   "id": "bb2d30ff",
   "metadata": {},
   "source": [
    "Optionally, we can also here specify recordings that we do not want sorted."
   ]
  },
  {
   "cell_type": "code",
   "execution_count": 11,
   "id": "eba6582f",
   "metadata": {},
   "outputs": [
    {
     "name": "stdout",
     "output_type": "stream",
     "text": [
      "['/net/bs-filesvr02/export/group/hierlemann/intermediate_data/Maxtwo/cmartins/Recordings/ST2036/ST2036AC/240430/T002735/Network/000015/data.raw.h5',\n",
      " '/net/bs-filesvr02/export/group/hierlemann/intermediate_data/Maxtwo/cmartins/Recordings/ST2036/ST2036AC/240507/T002735/Network/000007/data.raw.h5',\n",
      " '/net/bs-filesvr02/export/group/hierlemann/intermediate_data/Maxtwo/cmartins/Recordings/ST2036/ST2036AC/240528/T002735/Network/000012/data.raw.h5',\n",
      " '/net/bs-filesvr02/export/group/hierlemann/intermediate_data/Maxtwo/cmartins/Recordings/ST2036/ST2036AC/240611/T002735/Network/000008/data.raw.h5',\n",
      " '/net/bs-filesvr02/export/group/hierlemann/intermediate_data/Maxtwo/cmartins/Recordings/ST2036/ST2036AC/240628/T002735/Network/000033/data.raw.h5',\n",
      " '/net/bs-filesvr02/export/group/hierlemann/intermediate_data/Maxtwo/cmartins/Recordings/ST2036/ST2036AC/240705/T002735/Network/000033/data.raw.h5',\n",
      " '/net/bs-filesvr02/export/group/hierlemann/intermediate_data/Maxtwo/cmartins/Recordings/ST2036/ST2036AC/240726/T002735/Network/000002/data.raw.h5',\n",
      " '/net/bs-filesvr02/export/group/hierlemann/intermediate_data/Maxtwo/cmartins/Recordings/ST2036/ST2036AC/240801/T002735/Network/000073/data.raw.h5',\n",
      " '/net/bs-filesvr02/export/group/hierlemann/intermediate_data/Maxtwo/cmartins/Recordings/ST2036/ST2036AC/240809/T002735/Network/000075/data.raw.h5',\n",
      " '/net/bs-filesvr02/export/group/hierlemann/intermediate_data/Maxtwo/cmartins/Recordings/ST2036/ST2036E/240628/T002736/Network/000035/data.raw.h5',\n",
      " '/net/bs-filesvr02/export/group/hierlemann/intermediate_data/Maxtwo/cmartins/Recordings/ST2036/ST2036E/240705/T002736/Network/000039/data.raw.h5',\n",
      " '/net/bs-filesvr02/export/group/hierlemann/intermediate_data/Maxtwo/cmartins/Recordings/ST2036/ST2036E/240726/T002736/Network/000002/data.raw.h5',\n",
      " '/net/bs-filesvr02/export/group/hierlemann/intermediate_data/Maxtwo/cmartins/Recordings/ST2036/ST2036E/240801/T002736/Network/000041/data.raw.h5',\n",
      " '/net/bs-filesvr02/export/group/hierlemann/intermediate_data/Maxtwo/cmartins/Recordings/ST2036/ST2036E/240809/T002736/Network/000038/data.raw.h5',\n",
      " '/net/bs-filesvr02/export/group/hierlemann/intermediate_data/Maxtwo/cmartins/Recordings/ST2036/ST2036E/240816/T002736/Network/000002/data.raw.h5',\n",
      " '/net/bs-filesvr02/export/group/hierlemann/intermediate_data/Maxtwo/cmartins/Recordings/ST2036/ST2036E/240823/T002736/Network/000002/data.raw.h5']\n"
     ]
    }
   ],
   "source": [
    "path_list.sort()\n",
    "path_list.pop(2)\n",
    "pprint(path_list)"
   ]
  },
  {
   "cell_type": "markdown",
   "id": "f8bb53ed",
   "metadata": {},
   "source": [
    "Then we can do the actual sorting:"
   ]
  },
  {
   "cell_type": "code",
   "execution_count": null,
   "id": "d1a51137",
   "metadata": {},
   "outputs": [],
   "source": [
    "for path in path_list:\n",
    "    save_root = ss.convert_rec_path_to_save_path(path, save_path_changes)\n",
    "    h5 = h5py.File(path)\n",
    "    stream_ids = list(h5['wells'].keys())\n",
    "    for stream_id in tqdm(stream_ids):\n",
    "        rec = si.MaxwellRecordingExtractor(path, stream_id=stream_id)\n",
    "        ss.clean_sorting(rec, save_root, stream_id=stream_id, sorter=sorter, sorter_params=sorter_params)"
   ]
  }
 ],
 "metadata": {
  "kernelspec": {
   "display_name": "Python 3 (ipykernel)",
   "language": "python",
   "name": "python3"
  },
  "language_info": {
   "codemirror_mode": {
    "name": "ipython",
    "version": 3
   },
   "file_extension": ".py",
   "mimetype": "text/x-python",
   "name": "python",
   "nbconvert_exporter": "python",
   "pygments_lexer": "ipython3",
   "version": "3.11.5"
  }
 },
 "nbformat": 4,
 "nbformat_minor": 5
}
