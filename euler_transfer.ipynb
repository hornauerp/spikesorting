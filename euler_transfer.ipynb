{
 "cells": [
  {
   "cell_type": "code",
   "execution_count": null,
   "id": "661a0f9e",
   "metadata": {},
   "outputs": [],
   "source": [
    "from paramiko import SSHClient,AutoAddPolicy\n",
    "from scp import SCPClient\n",
    "import sys, pickle, os\n",
    "ssh = SSHClient()\n",
    "ssh.set_missing_host_key_policy(AutoAddPolicy())\n",
    "ssh.load_system_host_keys()\n",
    "ssh.connect('euler.ethz.ch',username='phornauer',password='')"
   ]
  },
  {
   "cell_type": "code",
   "execution_count": null,
   "id": "bc14e9ab",
   "metadata": {},
   "outputs": [],
   "source": [
    "# Define progress callback that prints the current percentage completed for the file\n",
    "def progress(filename, size, sent):\n",
    "    sys.stdout.write(\"%s's progress: %.2f%%   \\r\" % (filename, float(sent)/float(size)*100) )"
   ]
  },
  {
   "cell_type": "code",
   "execution_count": null,
   "id": "a646b8c9",
   "metadata": {},
   "outputs": [],
   "source": [
    "# SCPCLient takes a paramiko transport and progress callback as its arguments.\n",
    "scp = SCPClient(ssh.get_transport())"
   ]
  },
  {
   "cell_type": "code",
   "execution_count": null,
   "id": "bf4463e2",
   "metadata": {},
   "outputs": [],
   "source": [
    "cmd = \"find /cluster/project/bsse_sdsc/BELUB/Measurements/Cell_line*/*/*/*etwork/ -name '*.raw.h5'\"\n",
    "stdin, stdout, stderr = ssh.exec_command(cmd) "
   ]
  },
  {
   "cell_type": "code",
   "execution_count": null,
   "id": "3357f05e",
   "metadata": {},
   "outputs": [],
   "source": [
    "file_path_list = []\n",
    "recording_dates = ['190314','190321','190328','190404','190411',\n",
    "                  '190909','190916','190923','190930','191007',\n",
    "                  '200127','200203','200210','200217','200224']\n",
    "for line in stdout.read().splitlines():\n",
    "    recording_path = line.decode()\n",
    "    if any(recording_date in line.decode() for recording_date in recording_dates):\n",
    "        file_path_list.append(recording_path)\n"
   ]
  },
  {
   "cell_type": "code",
   "execution_count": null,
   "id": "bcb32af8",
   "metadata": {},
   "outputs": [],
   "source": [
    "with open(\"file_path_list.pkl\", \"wb\") as output:\n",
    "    pickle.dump(file_path_list, output)"
   ]
  },
  {
   "cell_type": "code",
   "execution_count": null,
   "id": "42a6ad5f",
   "metadata": {},
   "outputs": [],
   "source": [
    "save_root = '/net/bs-filesvr02/export/group/hierlemann/intermediate_data/Mea1k/phornauer/DeePhysSortings'\n",
    "path = file_path_list[0]\n",
    "path_parts = path.split('/')"
   ]
  },
  {
   "cell_type": "code",
   "execution_count": null,
   "id": "65b4749d",
   "metadata": {},
   "outputs": [],
   "source": [
    "remote_path = file_path_list[0]\n",
    "path_parts = remote_path.split('/')\n",
    "local_path = os.path.join(save_root, path_parts[7], path_parts[8])\n",
    "os.makedirs(local_path,exist_ok=True)\n",
    "scp.get(remote_path=remote_path, local_path=local_path)"
   ]
  },
  {
   "cell_type": "code",
   "execution_count": null,
   "id": "0a9c006e",
   "metadata": {},
   "outputs": [],
   "source": [
    "for file_idx, remote_path in enumerate(file_path_list):\n",
    "    path_parts = remote_path.split('/')\n",
    "    local_path = os.path.join(save_root, path_parts[7], path_parts[8])\n",
    "    os.makedirs(local_path,exist_ok=True)\n",
    "    scp.get(remote_path=remote_path, local_path=local_path)\n",
    "    if (file_idx + 1)%10 == 0:\n",
    "        print(f'Finished {file_idx+1}/{len(file_path_list)} recordings')"
   ]
  },
  {
   "cell_type": "code",
   "execution_count": null,
   "id": "e65274b0",
   "metadata": {},
   "outputs": [],
   "source": [
    "import pickle\n",
    "with open(\"file_path_list.pkl\", \"rb\") as output:\n",
    "    path_list = pickle.load(output)"
   ]
  },
  {
   "cell_type": "code",
   "execution_count": null,
   "id": "c3e62d29",
   "metadata": {},
   "outputs": [],
   "source": [
    "path_list"
   ]
  }
 ],
 "metadata": {
  "kernelspec": {
   "display_name": "Python 3 (ipykernel)",
   "language": "python",
   "name": "python3"
  },
  "language_info": {
   "codemirror_mode": {
    "name": "ipython",
    "version": 3
   },
   "file_extension": ".py",
   "mimetype": "text/x-python",
   "name": "python",
   "nbconvert_exporter": "python",
   "pygments_lexer": "ipython3",
   "version": "3.9.15"
  }
 },
 "nbformat": 4,
 "nbformat_minor": 5
}
