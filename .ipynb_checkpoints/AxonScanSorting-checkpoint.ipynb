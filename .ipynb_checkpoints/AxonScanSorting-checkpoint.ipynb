{
 "cells": [
  {
   "cell_type": "code",
   "execution_count": null,
   "id": "132f6569",
   "metadata": {},
   "outputs": [],
   "source": [
    "import os, time, shutil\n",
    "from pathlib import Path\n",
    "from glob import glob\n",
    "import numpy as np\n",
    "import spikeinterface.full as si"
   ]
  },
  {
   "cell_type": "code",
   "execution_count": null,
   "id": "33b90522",
   "metadata": {},
   "outputs": [],
   "source": [
    "sorter = 'kilosort2_5'\n",
    "si.Kilosort2_5Sorter.set_kilosort2_5_path('/home/phornauer/Git/Kilosort_2020b')\n",
    "sorter_params = si.get_default_sorter_params(si.Kilosort2_5Sorter)\n",
    "sorter_params['n_jobs'] = -1\n",
    "sorter_params['detect_threshold'] = 5.5\n",
    "sorter_params['minFR'] = 0.01\n",
    "sorter_params['minfr_goodchannels'] = 0.01\n",
    "sorter_params['keep_good_only'] = False\n",
    "sorter_params['do_correction'] = False\n",
    "print(sorter_params)"
   ]
  },
  {
   "cell_type": "code",
   "execution_count": null,
   "id": "92e7e26b",
   "metadata": {},
   "outputs": [],
   "source": [
    "input_path = '/net/bs-filesvr02/export/group/hierlemann/recordings/Maxtwo/mpriouret/iNeurons/230302/'\n",
    "path_list  = glob(input_path + '/M*/Network/*/data.raw.h5')\n",
    "path_list = path_list[1]"
   ]
  },
  {
   "cell_type": "code",
   "execution_count": null,
   "id": "3f683059",
   "metadata": {},
   "outputs": [],
   "source": [
    "si.__version__"
   ]
  }
 ],
 "metadata": {
  "kernelspec": {
   "display_name": "Python 3 (ipykernel)",
   "language": "python",
   "name": "python3"
  },
  "language_info": {
   "codemirror_mode": {
    "name": "ipython",
    "version": 3
   },
   "file_extension": ".py",
   "mimetype": "text/x-python",
   "name": "python",
   "nbconvert_exporter": "python",
   "pygments_lexer": "ipython3",
   "version": "3.9.15"
  }
 },
 "nbformat": 4,
 "nbformat_minor": 5
}
