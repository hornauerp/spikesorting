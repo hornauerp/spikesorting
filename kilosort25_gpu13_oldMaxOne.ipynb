{
 "cells": [
  {
   "cell_type": "code",
   "execution_count": 1,
   "id": "11bfeaa5",
   "metadata": {},
   "outputs": [],
   "source": [
    "import os, time, shutil, pickle\n",
    "from pathlib import Path\n",
    "from glob import glob\n",
    "import numpy as np\n",
    "import spikeinterface.full as si"
   ]
  },
  {
   "cell_type": "code",
   "execution_count": 2,
   "id": "33b90522",
   "metadata": {},
   "outputs": [
    {
     "name": "stdout",
     "output_type": "stream",
     "text": [
      "Setting KILOSORT2_5_PATH environment variable for subprocess calls to: /home/phornauer/Git/Kilosort_2020b\n",
      "{'detect_threshold': 5.5, 'projection_threshold': [10, 4], 'preclust_threshold': 8, 'car': True, 'minFR': 0.01, 'minfr_goodchannels': 0.01, 'nblocks': 5, 'sig': 20, 'freq_min': 150, 'sigmaMask': 30, 'nPCs': 3, 'ntbuff': 64, 'nfilt_factor': 4, 'NT': None, 'do_correction': False, 'wave_length': 61, 'keep_good_only': False, 'n_jobs': -1, 'total_memory': None, 'chunk_size': None, 'chunk_memory': None, 'chunk_duration': '1s', 'progress_bar': True}\n"
     ]
    }
   ],
   "source": [
    "sorter = 'kilosort2_5'\n",
    "si.Kilosort2_5Sorter.set_kilosort2_5_path('/home/phornauer/Git/Kilosort_2020b')\n",
    "sorter_params = si.get_default_sorter_params(si.Kilosort2_5Sorter)\n",
    "sorter_params['n_jobs'] = -1\n",
    "sorter_params['detect_threshold'] = 5.5\n",
    "sorter_params['minFR'] = 0.01\n",
    "sorter_params['minfr_goodchannels'] = 0.01\n",
    "sorter_params['keep_good_only'] = False\n",
    "sorter_params['do_correction'] = False\n",
    "print(sorter_params)"
   ]
  },
  {
   "cell_type": "code",
   "execution_count": 24,
   "id": "92e7e26b",
   "metadata": {},
   "outputs": [],
   "source": [
    "#input_path = '/net/bs-filesvr02/export/group/hierlemann/recordings/Mea1k/phornauer/'\n",
    "#path_list  = glob(input_path + 'SCR_rebuttal_week_5/*/*/Network/*/data.raw.h5')"
   ]
  },
  {
   "cell_type": "code",
   "execution_count": 3,
   "id": "6b2f8720",
   "metadata": {},
   "outputs": [],
   "source": [
    "with open(\"file_path_list.pkl\", \"rb\") as output:\n",
    "    path_list = pickle.load(output)"
   ]
  },
  {
   "cell_type": "code",
   "execution_count": 5,
   "id": "8689daa6",
   "metadata": {},
   "outputs": [],
   "source": [
    "save_root = '/net/bs-filesvr02/export/group/hierlemann/intermediate_data/Mea1k/phornauer/DeePhysSortings/'\n",
    "for p_idx, p in enumerate(path_list):\n",
    "    path_parts = p.split('/')\n",
    "    recording_path = os.path.join(\"/\",save_root, *path_parts[7:9],path_parts[-1])\n",
    "    output_folder = Path(os.path.join(\"/\",*recording_path.split('/')[:-1],\"well000\",\"sorted\"))\n",
    "    if not os.path.exists(os.path.join(output_folder,'amplitudes.npy')):\n",
    "        #print(f\"\\n\\n---------Sorting recording {path_parts[7:9]}---------\\n\\n\")\n",
    "        output_folder.mkdir(parents=True, exist_ok=True)\n",
    "        raw_file = os.path.join(output_folder,'recording.dat')\n",
    "        wh_file = os.path.join(output_folder, 'temp_wh.dat')\n",
    "        try:\n",
    "            rec = si.MaxwellRecordingExtractor(recording_path)\n",
    "            print(f\"DURATION: {rec.get_num_frames() / rec.get_sampling_frequency()} s -- \"\n",
    "              f\"NUM. CHANNELS: {rec.get_num_channels()}\")\n",
    "        except Exception:\n",
    "            continue\n",
    "        \n",
    "        try:\n",
    "            t_start_sort = time.time()\n",
    "            sorting = si.run_sorter(sorter, rec, output_folder=output_folder, verbose=False,\n",
    "                                    **sorter_params)\n",
    "            print(f\"\\n\\nSpike sorting elapsed time {time.time() - t_start_sort} s\")\n",
    "            if os.path.exists(wh_file):\n",
    "                os.remove(wh_file)\n",
    "            if os.path.exists(raw_file):\n",
    "                os.remove(raw_file)\n",
    "        except Exception:\n",
    "            if os.path.exists(wh_file):\n",
    "                os.remove(wh_file)\n",
    "            if os.path.exists(raw_file):\n",
    "                os.remove(raw_file)\n",
    "            continue\n",
    "        if (p_idx + 1)%10 == 0:\n",
    "            print(f'Finished {p_idx+1}/{len(path_list)} recordings')"
   ]
  },
  {
   "cell_type": "code",
   "execution_count": 6,
   "id": "c9da314f",
   "metadata": {},
   "outputs": [
    {
     "ename": "NameError",
     "evalue": "name 'sorter' is not defined",
     "output_type": "error",
     "traceback": [
      "\u001b[0;31m---------------------------------------------------------------------------\u001b[0m",
      "\u001b[0;31mNameError\u001b[0m                                 Traceback (most recent call last)",
      "Cell \u001b[0;32mIn[6], line 1\u001b[0m\n\u001b[0;32m----> 1\u001b[0m sorting \u001b[38;5;241m=\u001b[39m si\u001b[38;5;241m.\u001b[39mrun_sorter(\u001b[43msorter\u001b[49m, rec, output_folder\u001b[38;5;241m=\u001b[39moutput_folder, verbose\u001b[38;5;241m=\u001b[39m\u001b[38;5;28;01mFalse\u001b[39;00m,\n\u001b[1;32m      2\u001b[0m                                     \u001b[38;5;241m*\u001b[39m\u001b[38;5;241m*\u001b[39msorter_params)\n",
      "\u001b[0;31mNameError\u001b[0m: name 'sorter' is not defined"
     ]
    }
   ],
   "source": [
    "sorting = si.run_sorter(sorter, rec, output_folder=output_folder, verbose=False,\n",
    "                                    **sorter_params)"
   ]
  },
  {
   "cell_type": "code",
   "execution_count": 5,
   "id": "b47de37f",
   "metadata": {},
   "outputs": [
    {
     "data": {
      "text/plain": [
       "False"
      ]
     },
     "execution_count": 5,
     "metadata": {},
     "output_type": "execute_result"
    }
   ],
   "source": [
    "os.path.exists(os.path.join(output_folder,'amplitudes.npy'))"
   ]
  },
  {
   "cell_type": "code",
   "execution_count": 66,
   "id": "ef53f3f1",
   "metadata": {},
   "outputs": [
    {
     "data": {
      "text/plain": [
       "PosixPath('net/bs-filesvr02/export/group/hierlemann/intermediate_data/Mea1k/phornauer/DeePhysSortings/200127/5207/well000/sorted')"
      ]
     },
     "execution_count": 66,
     "metadata": {},
     "output_type": "execute_result"
    }
   ],
   "source": [
    "output_folder"
   ]
  },
  {
   "cell_type": "code",
   "execution_count": 59,
   "id": "d25f8a13",
   "metadata": {},
   "outputs": [
    {
     "name": "stdout",
     "output_type": "stream",
     "text": [
      "Finished 10/261 recordings\n",
      "Finished 20/261 recordings\n",
      "Finished 30/261 recordings\n",
      "Finished 40/261 recordings\n",
      "Finished 50/261 recordings\n",
      "Finished 60/261 recordings\n",
      "Finished 70/261 recordings\n",
      "Finished 80/261 recordings\n",
      "Finished 90/261 recordings\n",
      "Finished 100/261 recordings\n",
      "Finished 110/261 recordings\n",
      "Finished 120/261 recordings\n",
      "Finished 130/261 recordings\n",
      "Finished 140/261 recordings\n",
      "Finished 150/261 recordings\n",
      "Finished 160/261 recordings\n",
      "Finished 170/261 recordings\n",
      "Finished 180/261 recordings\n",
      "Finished 190/261 recordings\n",
      "Finished 200/261 recordings\n",
      "Finished 210/261 recordings\n",
      "Finished 220/261 recordings\n",
      "Finished 230/261 recordings\n",
      "Finished 240/261 recordings\n",
      "Finished 250/261 recordings\n",
      "Finished 260/261 recordings\n"
     ]
    }
   ],
   "source": [
    "for p_idx, p in enumerate(path_list):\n",
    "    path_parts = p.split('/')\n",
    "    recording_path = os.path.join(save_root, *path_parts[7:9],path_parts[-1])\n",
    "    if (p_idx + 1)%10 == 0:\n",
    "            print(f'Finished {p_idx+1}/{len(path_list)} recordings')"
   ]
  },
  {
   "cell_type": "code",
   "execution_count": 56,
   "id": "4b251829",
   "metadata": {},
   "outputs": [
    {
     "name": "stdout",
     "output_type": "stream",
     "text": [
      "\n",
      "\n",
      "---------Sorting recording ['200127', '4652']---------\n",
      "\n",
      "\n",
      "DURATION: 900.03 s -- NUM. CHANNELS: 1020\n",
      "RUNNING SHELL SCRIPT: /tmp/tmp_shellscriptmsq99i9g/script.sh\n"
     ]
    },
    {
     "data": {
      "application/vnd.jupyter.widget-view+json": {
       "model_id": "be0da75c480845e989483e0875878059",
       "version_major": 2,
       "version_minor": 0
      },
      "text/plain": [
       "write_binary_recording:   0%|          | 0/901 [00:00<?, ?it/s]"
      ]
     },
     "metadata": {},
     "output_type": "display_data"
    },
    {
     "name": "stdout",
     "output_type": "stream",
     "text": [
      "RUNNING SHELL SCRIPT: /tmp/tmp_shellscriptxq1igmb8/script.sh\n",
      "RUNNING SHELL SCRIPT: /tmp/tmp_shellscriptj8vuwne3/script.sh\n",
      "RUNNING SHELL SCRIPT: /net/bs-filesvr02/export/group/hierlemann/intermediate_data/Mea1k/phornauer/DeePhysSortings/200127/4652/well000/sorted/run_kilosort2_5.sh\n",
      "\n",
      "\n",
      "                                                                              < M A T L A B (R) >\n",
      "\n",
      "                                                                    Copyright 1984-2020 The MathWorks, Inc.\n",
      "\n",
      "                                                                    R2020b (9.9.0.1467703) 64-bit (glnxa64)\n",
      "\n",
      "                                                                                August 26, 2020\n",
      "\n",
      "\n",
      "\n",
      " \n",
      "\n",
      "To get started, type doc.\n",
      "\n",
      "For product information, visit www.mathworks.com.\n",
      "\n",
      " \n",
      "\n",
      "Time   0s. Computing whitening matrix.. \n",
      "\n",
      "Getting channel whitening matrix... \n",
      "\n",
      "Channel-whitening matrix computed. \n",
      "\n",
      "Time  17s. Loading raw data and applying filters... \n",
      "\n",
      "Time 375s. Finished preprocessing 275 batches. \n",
      "\n",
      "Drift correction DISABLED\n",
      "\n",
      "pitch is 35 um\n",
      "\n",
      "0.94 sec, 1 batches, 1948 spikes \n",
      "\n",
      "102.68 sec, 101 batches, 206364 spikes \n",
      "\n",
      "248.06 sec, 201 batches, 405541 spikes \n",
      "\n",
      "322.89 sec, 275 batches, 552991 spikes \n",
      "\n",
      "time 333.11, Skipped shifting 275 batches. \n",
      "\n",
      "Time 338s. Optimizing templates ...\n",
      "\n",
      "339.69 sec, 1 / 275 batches, 92 units, nspks: 7.2356, mu: 18.0733, nst0: 86, merges: 0.0000, 0.0000, 4.2000 \n",
      "\n",
      "420.07 sec, 101 / 275 batches, 220 units, nspks: 95.9616, mu: 19.5076, nst0: 87, merges: 314.0897, 0.0000, 77.5881 \n",
      "\n",
      "524.31 sec, 201 / 275 batches, 221 units, nspks: 131.5177, mu: 18.9527, nst0: 42, merges: 381.4993, 0.0000, 77.0778 \n",
      "\n",
      "Elapsed time is 593.016314 seconds.\n",
      "\n",
      "Finished learning templates \n",
      "\n",
      "Time 594s. Optimizing templates ...\n",
      "\n",
      "593.98 sec, 1 / 275 batches, 138 units, nspks: 135.0000, mu: 19.5846, nst0: 177 \n",
      "\n",
      "646.64 sec, 101 / 275 batches, 138 units, nspks: 13471.0000, mu: 19.5846, nst0: 109 \n",
      "\n",
      "700.19 sec, 201 / 275 batches, 138 units, nspks: 26206.0000, mu: 19.5846, nst0: 116 \n",
      "\n",
      "Elapsed time is 736.558766 seconds.\n",
      "\n",
      "Number of spikes before applying cutoff: 54944\n",
      "\n",
      "initialized spike counts\n",
      "\n",
      "merged 23 into 21 \n",
      "\n",
      "merged 71 into 72 \n",
      "\n",
      "merged 25 into 22 \n",
      "\n",
      "merged 5 into 4 \n",
      "\n",
      "merged 45 into 44 \n",
      "\n",
      "merged 63 into 62 \n",
      "\n",
      "merged 82 into 81 \n",
      "\n",
      "merged 105 into 106 \n",
      "\n",
      "merged 123 into 122 \n",
      "\n",
      "merged 32 into 33 \n",
      "\n",
      "merged 13 into 14 \n",
      "\n",
      "merged 39 into 31 \n",
      "\n",
      "merged 69 into 70 \n",
      "\n",
      "merged 16 into 15 \n",
      "\n",
      "Found 0 splits, checked 1/138 clusters, nccg 0 \n",
      "\n",
      "Found 2 splits, checked 101/140 clusters, nccg 24 \n",
      "\n",
      "Finished splitting. Found 2 splits, checked 140/140 clusters, nccg 29 \n",
      "\n",
      "Removing 7395 spikes below cutoff from rez.\n",
      "\n",
      "found 71 good units \n",
      "\n",
      "Saving results to Phy  \n",
      "\n",
      "kilosort2_5 run time 1189.31s\n",
      "\n",
      "\n",
      "Spike sorting elapsed time 2312.9441373348236 s\n"
     ]
    }
   ],
   "source": [
    "path_parts = p.split('/')\n",
    "recording_path = os.path.join(save_root, *path_parts[7:9],path_parts[-1])\n",
    "output_folder = Path(os.path.join(\"/\",*recording_path.split('/')[:-1],\"well000\",\"sorted\"))\n",
    "#if not os.path.exists(output_folder):\n",
    "print(f\"\\n\\n---------Sorting recording {path_parts[7:9]}---------\\n\\n\")\n",
    "output_folder.mkdir(parents=True, exist_ok=True)\n",
    "raw_file = os.path.join(output_folder,'recording.dat')\n",
    "wh_file = os.path.join(output_folder, 'temp_wh.dat')\n",
    "try:\n",
    "    rec = si.MaxwellRecordingExtractor(recording_path)\n",
    "    print(f\"DURATION: {rec.get_num_frames() / rec.get_sampling_frequency()} s -- \"\n",
    "      f\"NUM. CHANNELS: {rec.get_num_channels()}\")\n",
    "except Exception:\n",
    "    print('xd')\n",
    "try:\n",
    "    t_start_sort = time.time()\n",
    "    sorting = si.run_sorter(sorter, rec, output_folder=output_folder, verbose=True,\n",
    "                            **sorter_params)\n",
    "    print(f\"\\n\\nSpike sorting elapsed time {time.time() - t_start_sort} s\")\n",
    "    if os.path.exists(wh_file):\n",
    "        os.remove(wh_file)\n",
    "    if os.path.exists(raw_file):\n",
    "        os.remove(raw_file)\n",
    "except Exception:\n",
    "    if os.path.exists(wh_file):\n",
    "        os.remove(wh_file)\n",
    "    if os.path.exists(raw_file):\n",
    "        os.remove(raw_file)\n",
    "    #continue"
   ]
  },
  {
   "cell_type": "code",
   "execution_count": 55,
   "id": "fdc21e5a",
   "metadata": {},
   "outputs": [
    {
     "data": {
      "text/plain": [
       "PosixPath('/net/bs-filesvr02/export/group/hierlemann/intermediate_data/Mea1k/phornauer/DeePhysSortings/200127/4652/well000/sorted')"
      ]
     },
     "execution_count": 55,
     "metadata": {},
     "output_type": "execute_result"
    }
   ],
   "source": [
    "output_folder = Path(os.path.join(\"/\",*recording_path.split('/')[:-1],\"well000\",\"sorted\"))\n",
    "output_folder"
   ]
  }
 ],
 "metadata": {
  "kernelspec": {
   "display_name": "Python 3 (ipykernel)",
   "language": "python",
   "name": "python3"
  },
  "language_info": {
   "codemirror_mode": {
    "name": "ipython",
    "version": 3
   },
   "file_extension": ".py",
   "mimetype": "text/x-python",
   "name": "python",
   "nbconvert_exporter": "python",
   "pygments_lexer": "ipython3",
   "version": "3.9.15"
  }
 },
 "nbformat": 4,
 "nbformat_minor": 5
}
