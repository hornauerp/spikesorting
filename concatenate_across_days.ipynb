{
 "cells": [
  {
   "cell_type": "code",
   "execution_count": 1,
   "id": "0025dc46",
   "metadata": {},
   "outputs": [],
   "source": [
    "import os, time, shutil\n",
    "from pathlib import Path\n",
    "from glob import glob\n",
    "import numpy as np\n",
    "import spikeinterface.full as si"
   ]
  },
  {
   "cell_type": "code",
   "execution_count": 2,
   "id": "93251bfe",
   "metadata": {},
   "outputs": [],
   "source": [
    "def clean_sorting(rec, save_root, stream_name):\n",
    "    \n",
    "    # Creates output folder, sorts and clears large temporary files\n",
    "    save_path = os.path.join(save_root,stream_name)\n",
    "    output_folder = Path(os.path.join(save_path, 'sorted'))\n",
    "    \n",
    "    if not os.path.exists(os.path.join(output_folder,'amplitudes.npy')):\n",
    "        output_folder.mkdir(parents=True, exist_ok=True)\n",
    "        raw_file = os.path.join(output_folder,'recording.dat')\n",
    "        wh_file = os.path.join(output_folder, 'temp_wh.dat')\n",
    "        \n",
    "        print(f\"DURATION: {rec.get_num_frames() / rec.get_sampling_frequency()} s -- \"\n",
    "                f\"NUM. CHANNELS: {rec.get_num_channels()}\")\n",
    "        \n",
    "        try:\n",
    "            t_start_sort = time.time()\n",
    "            sorting = si.run_sorter(sorter, rec, output_folder=output_folder, verbose=True,\n",
    "                                    **sorter_params)\n",
    "            print(f\"\\n\\nSpike sorting elapsed time {time.time() - t_start_sort} s\")\n",
    "            \n",
    "            #Making sure we clean up the temporary .npy files\n",
    "            if os.path.exists(wh_file):\n",
    "                os.remove(wh_file)\n",
    "            if os.path.exists(raw_file):\n",
    "                os.remove(raw_file)\n",
    "        except Exception:\n",
    "            if os.path.exists(wh_file):\n",
    "                os.remove(wh_file)\n",
    "            if os.path.exists(raw_file):\n",
    "                os.remove(raw_file)"
   ]
  },
  {
   "cell_type": "code",
   "execution_count": 3,
   "id": "5bdc55bb",
   "metadata": {},
   "outputs": [
    {
     "name": "stdout",
     "output_type": "stream",
     "text": [
      "Setting KILOSORT2_5_PATH environment variable for subprocess calls to: /home/phornauer/Git/Kilosort_2020b\n"
     ]
    }
   ],
   "source": [
    "sorter = 'kilosort2_5'\n",
    "si.Kilosort2_5Sorter.set_kilosort2_5_path('/home/phornauer/Git/Kilosort_2020b')\n",
    "sorter_params = si.get_default_sorter_params(si.Kilosort2_5Sorter)\n",
    "sorter_params['n_jobs'] = -1\n",
    "sorter_params['detect_threshold'] = 5.5\n",
    "sorter_params['minFR'] = 0.01\n",
    "sorter_params['minfr_goodchannels'] = 0.01\n",
    "sorter_params['keep_good_only'] = False\n",
    "sorter_params['do_correction'] = False"
   ]
  },
  {
   "cell_type": "code",
   "execution_count": 10,
   "id": "dddbcf34",
   "metadata": {},
   "outputs": [
    {
     "data": {
      "text/plain": [
       "['/net/bs-filesvr02/export/group/hierlemann/recordings/Mea1k/phornauer/230125/How_medium_change/M05569',\n",
       " '/net/bs-filesvr02/export/group/hierlemann/recordings/Mea1k/phornauer/230126/How_medium_change/M05569',\n",
       " '/net/bs-filesvr02/export/group/hierlemann/recordings/Mea1k/phornauer/230123/How_medium_change/M05569',\n",
       " '/net/bs-filesvr02/export/group/hierlemann/recordings/Mea1k/phornauer/230124/How_medium_change/M05569']"
      ]
     },
     "execution_count": 10,
     "metadata": {},
     "output_type": "execute_result"
    }
   ],
   "source": [
    "N_recordings = 5 # Number of recordings per chip/well that need to exist\n",
    "parent_path = '/net/bs-filesvr02/export/group/hierlemann/recordings/Mea1k/phornauer/'\n",
    "recording_date = '230*'\n",
    "project_name = 'How_medium_change'\n",
    "chip_id = 'M05569'\n",
    "\n",
    "assay_name = 'Network'\n",
    "assay_id = '00*'\n",
    "file_name = 'data.raw.h5'\n",
    "\n",
    "path_parts = [parent_path, recording_date, project_name, chip_id]\n",
    "path_pattern = os.path.join(*path_parts)\n",
    "path_list  = glob(path_pattern)\n",
    "chip_ids = [path.split('/')[-1] for path in path_list]"
   ]
  },
  {
   "cell_type": "code",
   "execution_count": 12,
   "id": "d37e69ab",
   "metadata": {},
   "outputs": [
    {
     "data": {
      "text/plain": [
       "['/net/bs-filesvr02/export/group/hierlemann/recordings/Mea1k/phornauer/230123/How_medium_change/M05569/Network/000006/data.raw.h5',\n",
       " '/net/bs-filesvr02/export/group/hierlemann/recordings/Mea1k/phornauer/230123/How_medium_change/M05569/Network/000017/data.raw.h5',\n",
       " '/net/bs-filesvr02/export/group/hierlemann/recordings/Mea1k/phornauer/230124/How_medium_change/M05569/Network/000023/data.raw.h5',\n",
       " '/net/bs-filesvr02/export/group/hierlemann/recordings/Mea1k/phornauer/230125/How_medium_change/M05569/Network/000029/data.raw.h5',\n",
       " '/net/bs-filesvr02/export/group/hierlemann/recordings/Mea1k/phornauer/230126/How_medium_change/M05569/Network/000035/data.raw.h5']"
      ]
     },
     "execution_count": 12,
     "metadata": {},
     "output_type": "execute_result"
    }
   ],
   "source": [
    "chip_file_list"
   ]
  },
  {
   "cell_type": "code",
   "execution_count": 17,
   "id": "41d33f79",
   "metadata": {},
   "outputs": [
    {
     "name": "stdout",
     "output_type": "stream",
     "text": [
      "DURATION: 4500.22 s -- NUM. CHANNELS: 1020\n",
      "RUNNING SHELL SCRIPT: /tmp/tmp_shellscriptvyq5d8m8/script.sh\n"
     ]
    },
    {
     "data": {
      "application/vnd.jupyter.widget-view+json": {
       "model_id": "f14fe04ba0094243bd148ae7c8411ca0",
       "version_major": 2,
       "version_minor": 0
      },
      "text/plain": [
       "write_binary_recording:   0%|          | 0/4501 [00:00<?, ?it/s]"
      ]
     },
     "metadata": {},
     "output_type": "display_data"
    },
    {
     "name": "stdout",
     "output_type": "stream",
     "text": [
      "RUNNING SHELL SCRIPT: /tmp/tmp_shellscriptz4f_2flg/script.sh\n",
      "RUNNING SHELL SCRIPT: /tmp/tmp_shellscript53l67uvv/script.sh\n",
      "RUNNING SHELL SCRIPT: /net/bs-filesvr02/export/group/hierlemann/intermediate_data/Mea1k/phornauer/230123/How_medium_change/M05569/well000/sorted/run_kilosort2_5.sh\n",
      "\n",
      "\n",
      "                                                                              < M A T L A B (R) >\n",
      "\n",
      "                                                                    Copyright 1984-2020 The MathWorks, Inc.\n",
      "\n",
      "                                                                    R2020b (9.9.0.1467703) 64-bit (glnxa64)\n",
      "\n",
      "                                                                                August 26, 2020\n",
      "\n",
      "\n",
      "\n",
      " \n",
      "\n",
      "To get started, type doc.\n",
      "\n",
      "For product information, visit www.mathworks.com.\n",
      "\n",
      " \n",
      "\n",
      "Time   0s. Computing whitening matrix.. \n",
      "\n",
      "Getting channel whitening matrix... \n",
      "\n",
      "Channel-whitening matrix computed. \n",
      "\n",
      "Time  16s. Loading raw data and applying filters... \n",
      "\n",
      "Time 453s. Finished preprocessing 687 batches. \n",
      "\n",
      "Drift correction DISABLED\n",
      "\n",
      "pitch is 35 um\n",
      "\n",
      "0.92 sec, 1 batches, 479 spikes \n",
      "\n",
      "85.99 sec, 101 batches, 37035 spikes \n",
      "\n",
      "172.10 sec, 201 batches, 108095 spikes \n",
      "\n",
      "258.23 sec, 301 batches, 177656 spikes \n",
      "\n",
      "344.52 sec, 401 batches, 212131 spikes \n",
      "\n",
      "431.02 sec, 501 batches, 247898 spikes \n",
      "\n",
      "517.07 sec, 601 batches, 283749 spikes \n",
      "\n",
      "591.04 sec, 687 batches, 308965 spikes \n",
      "\n",
      "time 602.45, Skipped shifting 687 batches. \n",
      "\n",
      "Time 614s. Optimizing templates ...\n",
      "\n",
      "----------------------------------------Error using gpuArray/nan\n",
      "\n",
      "An unexpected error occurred trying to launch a kernel. The CUDA error was:\n",
      "\n",
      "invalid configuration argument\n",
      "Error running kilosort2_5\n",
      "Traceback (most recent call last):\n",
      "  File \"/home/phornauer/Git/spikeinterface/spikeinterface/sorters/basesorter.py\", line 225, in run_from_folder\n",
      "    SorterClass._run_from_folder(output_folder, sorter_params, verbose)\n",
      "  File \"/home/phornauer/Git/spikeinterface/spikeinterface/sorters/kilosortbase.py\", line 178, in _run_from_folder\n",
      "    raise Exception(f'{cls.sorter_name} returned a non-zero exit code')\n",
      "Exception: kilosort2_5 returned a non-zero exit code\n",
      "\n",
      "DURATION: 4500.2 s -- NUM. CHANNELS: 1020\n",
      "RUNNING SHELL SCRIPT: /tmp/tmp_shellscriptdm6pscij/script.sh\n"
     ]
    },
    {
     "data": {
      "application/vnd.jupyter.widget-view+json": {
       "model_id": "ea3d704064354d04a99e7a479ee5f2eb",
       "version_major": 2,
       "version_minor": 0
      },
      "text/plain": [
       "write_binary_recording:   0%|          | 0/4501 [00:00<?, ?it/s]"
      ]
     },
     "metadata": {},
     "output_type": "display_data"
    },
    {
     "name": "stdout",
     "output_type": "stream",
     "text": [
      "RUNNING SHELL SCRIPT: /tmp/tmp_shellscriptfah1eky2/script.sh\n",
      "RUNNING SHELL SCRIPT: /tmp/tmp_shellscript8bos9upb/script.sh\n",
      "RUNNING SHELL SCRIPT: /net/bs-filesvr02/export/group/hierlemann/intermediate_data/Mea1k/phornauer/230123/How_medium_change/M05569/well001/sorted/run_kilosort2_5.sh\n",
      "\n",
      "\n",
      "                                                                              < M A T L A B (R) >\n",
      "\n",
      "                                                                    Copyright 1984-2020 The MathWorks, Inc.\n",
      "\n",
      "                                                                    R2020b (9.9.0.1467703) 64-bit (glnxa64)\n",
      "\n",
      "                                                                                August 26, 2020\n",
      "\n",
      "\n",
      "\n",
      " \n",
      "\n",
      "To get started, type doc.\n",
      "\n",
      "For product information, visit www.mathworks.com.\n",
      "\n",
      " \n",
      "\n",
      "Time   0s. Computing whitening matrix.. \n",
      "\n",
      "Getting channel whitening matrix... \n",
      "\n",
      "Channel-whitening matrix computed. \n",
      "\n",
      "Time  13s. Loading raw data and applying filters... \n",
      "\n",
      "Time 464s. Finished preprocessing 687 batches. \n",
      "\n",
      "Drift correction DISABLED\n",
      "\n",
      "pitch is 35 um\n",
      "\n",
      "0.88 sec, 1 batches, 1104 spikes \n",
      "\n",
      "81.23 sec, 101 batches, 76138 spikes \n",
      "\n",
      "163.94 sec, 201 batches, 205279 spikes \n",
      "\n",
      "247.17 sec, 301 batches, 332361 spikes \n",
      "\n",
      "330.97 sec, 401 batches, 413759 spikes \n",
      "\n",
      "414.57 sec, 501 batches, 502073 spikes \n",
      "\n",
      "498.70 sec, 601 batches, 589222 spikes \n",
      "\n",
      "570.70 sec, 687 batches, 650912 spikes \n",
      "\n",
      "time 577.64, Skipped shifting 687 batches. \n",
      "\n",
      "Time 589s. Optimizing templates ...\n",
      "\n",
      "----------------------------------------Error using gpuArray/nan\n",
      "\n",
      "An unexpected error occurred trying to launch a kernel. The CUDA error was:\n",
      "\n",
      "invalid configuration argument\n",
      "Error running kilosort2_5\n",
      "Traceback (most recent call last):\n",
      "  File \"/home/phornauer/Git/spikeinterface/spikeinterface/sorters/basesorter.py\", line 225, in run_from_folder\n",
      "    SorterClass._run_from_folder(output_folder, sorter_params, verbose)\n",
      "  File \"/home/phornauer/Git/spikeinterface/spikeinterface/sorters/kilosortbase.py\", line 178, in _run_from_folder\n",
      "    raise Exception(f'{cls.sorter_name} returned a non-zero exit code')\n",
      "Exception: kilosort2_5 returned a non-zero exit code\n",
      "\n",
      "DURATION: 4500.18 s -- NUM. CHANNELS: 1020\n",
      "RUNNING SHELL SCRIPT: /tmp/tmp_shellscriptbw6m742u/script.sh\n"
     ]
    },
    {
     "data": {
      "application/vnd.jupyter.widget-view+json": {
       "model_id": "77f5098f9ff847469caf40abad77ddf7",
       "version_major": 2,
       "version_minor": 0
      },
      "text/plain": [
       "write_binary_recording:   0%|          | 0/4501 [00:00<?, ?it/s]"
      ]
     },
     "metadata": {},
     "output_type": "display_data"
    },
    {
     "name": "stdout",
     "output_type": "stream",
     "text": [
      "RUNNING SHELL SCRIPT: /tmp/tmp_shellscriptn0ap9gqx/script.sh\n",
      "RUNNING SHELL SCRIPT: /tmp/tmp_shellscriptzqk0m1lm/script.sh\n",
      "RUNNING SHELL SCRIPT: /net/bs-filesvr02/export/group/hierlemann/intermediate_data/Mea1k/phornauer/230123/How_medium_change/M05569/well002/sorted/run_kilosort2_5.sh\n",
      "\n",
      "\n",
      "                                                                              < M A T L A B (R) >\n",
      "\n",
      "                                                                    Copyright 1984-2020 The MathWorks, Inc.\n",
      "\n",
      "                                                                    R2020b (9.9.0.1467703) 64-bit (glnxa64)\n",
      "\n",
      "                                                                                August 26, 2020\n",
      "\n",
      "\n",
      "\n",
      " \n",
      "\n",
      "To get started, type doc.\n",
      "\n",
      "For product information, visit www.mathworks.com.\n",
      "\n",
      " \n",
      "\n",
      "Time   0s. Computing whitening matrix.. \n",
      "\n",
      "Getting channel whitening matrix... \n",
      "\n",
      "Channel-whitening matrix computed. \n",
      "\n",
      "Time  13s. Loading raw data and applying filters... \n",
      "\n",
      "Time 453s. Finished preprocessing 687 batches. \n",
      "\n",
      "Drift correction DISABLED\n",
      "\n",
      "pitch is 35 um\n",
      "\n",
      "0.83 sec, 1 batches, 1175 spikes \n",
      "\n",
      "82.00 sec, 101 batches, 91441 spikes \n",
      "\n",
      "164.28 sec, 201 batches, 164246 spikes \n",
      "\n",
      "246.34 sec, 301 batches, 223689 spikes \n",
      "\n",
      "328.89 sec, 401 batches, 294695 spikes \n",
      "\n",
      "410.71 sec, 501 batches, 381342 spikes \n",
      "\n",
      "492.98 sec, 601 batches, 464535 spikes \n",
      "\n",
      "563.79 sec, 687 batches, 518441 spikes \n",
      "\n",
      "time 570.68, Skipped shifting 687 batches. \n",
      "\n",
      "Time 582s. Optimizing templates ...\n",
      "\n",
      "----------------------------------------Error using gpuArray/nan\n",
      "\n",
      "An unexpected error occurred trying to launch a kernel. The CUDA error was:\n",
      "\n",
      "invalid configuration argument\n",
      "Error running kilosort2_5\n",
      "Traceback (most recent call last):\n",
      "  File \"/home/phornauer/Git/spikeinterface/spikeinterface/sorters/basesorter.py\", line 225, in run_from_folder\n",
      "    SorterClass._run_from_folder(output_folder, sorter_params, verbose)\n",
      "  File \"/home/phornauer/Git/spikeinterface/spikeinterface/sorters/kilosortbase.py\", line 178, in _run_from_folder\n",
      "    raise Exception(f'{cls.sorter_name} returned a non-zero exit code')\n",
      "Exception: kilosort2_5 returned a non-zero exit code\n",
      "\n"
     ]
    }
   ],
   "source": [
    "for chip in set(chip_ids):\n",
    "    chip_parts = [parent_path, recording_date, project_name, chip, assay_name, assay_id, file_name]\n",
    "    chip_pattern = os.path.join(*chip_parts)\n",
    "    chip_file_list  = glob(chip_pattern)\n",
    "    chip_file_list.sort()\n",
    "    \n",
    "    for well_id in range(3): # Iterate over all wells\n",
    "        stream_name = 'well00' + str(well_id)\n",
    "        \n",
    "        path_parts = chip_file_list[0].split('/')\n",
    "        path_parts[0] = '/'\n",
    "        path_parts[6] = 'intermediate_data'\n",
    "        save_root = os.path.join(*path_parts[0:12])\n",
    "        \n",
    "        well_recording_list = []\n",
    "        \n",
    "        for rec_path in chip_file_list: #Iterate over recordings to be concatenated \n",
    "            \n",
    "            try: # If not all wells were recorded, should be the only cause for an error\n",
    "                rec = si.MaxwellRecordingExtractor(rec_path,stream_name=stream_name)\n",
    "                well_recording_list.append(rec)\n",
    "            except Exception:\n",
    "                continue\n",
    "        \n",
    "        if len(well_recording_list) >= N_recordings:\n",
    "            multirecording = si.concatenate_recordings(well_recording_list[:N_recordings])\n",
    "            clean_sorting(multirecording, save_root, stream_name)"
   ]
  },
  {
   "cell_type": "code",
   "execution_count": 22,
   "id": "1bc8bcd6",
   "metadata": {},
   "outputs": [],
   "source": [
    "well_id = 0\n",
    "stream_name = 'well00' + str(well_id)\n",
    "        \n",
    "path_parts = chip_file_list[0].split('/')\n",
    "path_parts[0] = '/'\n",
    "path_parts[6] = 'intermediate_data'\n",
    "save_root = os.path.join(*path_parts[0:12])\n",
    "well_recording_list = []\n",
    "for rec_path in chip_file_list: #Iterate over recordings to be concatenated \n",
    "            \n",
    "    try: # If not all wells were recorded, should be the only cause for an error\n",
    "        rec = si.MaxwellRecordingExtractor(rec_path,stream_name=stream_name)\n",
    "        well_recording_list.append(rec)\n",
    "    except Exception:\n",
    "        continue"
   ]
  },
  {
   "cell_type": "code",
   "execution_count": 16,
   "id": "40eae6c0",
   "metadata": {},
   "outputs": [
    {
     "data": {
      "text/plain": [
       "[0, 1, 2]"
      ]
     },
     "execution_count": 16,
     "metadata": {},
     "output_type": "execute_result"
    }
   ],
   "source": [
    "list(range(3))\n"
   ]
  }
 ],
 "metadata": {
  "kernelspec": {
   "display_name": "Python 3 (ipykernel)",
   "language": "python",
   "name": "python3"
  },
  "language_info": {
   "codemirror_mode": {
    "name": "ipython",
    "version": 3
   },
   "file_extension": ".py",
   "mimetype": "text/x-python",
   "name": "python",
   "nbconvert_exporter": "python",
   "pygments_lexer": "ipython3",
   "version": "3.9.15"
  }
 },
 "nbformat": 4,
 "nbformat_minor": 5
}
